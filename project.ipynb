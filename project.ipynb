{
 "cells": [
  {
   "cell_type": "markdown",
   "metadata": {},
   "source": [
    "Qiskit example"
   ]
  },
  {
   "cell_type": "code",
   "execution_count": 8,
   "metadata": {},
   "outputs": [
    {
     "name": "stdout",
     "output_type": "stream",
     "text": [
      "Quantum Circuit:\n",
      "     ┌───┐     \n",
      "q_0: ┤ H ├──■──\n",
      "     └───┘┌─┴─┐\n",
      "q_1: ─────┤ X ├\n",
      "          └───┘\n"
     ]
    }
   ],
   "source": [
    "from qiskit import QuantumCircuit\n",
    "\n",
    "# Create a quantum circuit with 2 qubits\n",
    "qc = QuantumCircuit(2)\n",
    "\n",
    "# Apply the Hadamard (H) gate to the first qubit\n",
    "qc.h(0)\n",
    "\n",
    "# Apply the CNOT gate with the first qubit as control and the second qubit as target\n",
    "qc.cx(0, 1)\n",
    "\n",
    "# Display the quantum circuit\n",
    "print(\"Quantum Circuit:\")\n",
    "print(qc)\n"
   ]
  },
  {
   "cell_type": "markdown",
   "metadata": {},
   "source": [
    "# Deutsch's Algorithm"
   ]
  },
  {
   "cell_type": "markdown",
   "metadata": {},
   "source": [
    "## Table of contents\n",
    "\n",
    "- [Introduction](#introduction)\n",
    "- [Quantum](#quantum)\n",
    "    - [Quantum Mechanics](#quantum-mechanics)\n",
    "- [Quantum computing x Classical computing](#quantum-computing-x-classical-computing)\n",
    "    - [Classical Computing](#classical-computing)\n",
    "        - [Classical Bits](#classical-bits)\n",
    "        - [Logic Gates](#logic-gates)\n",
    "    - [Quantum Computing](#quantum-computing)\n",
    "        - [Quantum Bits(Qubits)](#quantum-bitsqubits)\n",
    "        - [Quantum Gates](#quantum-gates)\n",
    "        - [Quantum Algorithms](#quantum-algorithms)\n",
    "        - [Quantum Hardware](#quantum-hardware)\n",
    "- [The Deustch's Algorithm](#the-deutschs-algorithm)\n",
    "- [Challenges and Future](#challenges-and-future)\n",
    "- [Conclusion](#conclusion)\n",
    "- [Bibliography](#bibliography)"
   ]
  },
  {
   "cell_type": "markdown",
   "metadata": {},
   "source": [
    "## Introduction\n",
    "\n",
    "The Deutsch-Jozsa algorithm is a quantum algorithm that was first proposed by David Deutsch in 1985 and later expanded by Richard Jozsa in 1992. In a brief way, this is how the algorith is set-up. \"We want to find out whether a particular function, with one input bit and one output bit is constant or balanced.Classically, we need to evaluate the function twice (i.e., for input = 0 and input = 1), but remarkably, we only need to evaluate the function once quantumly, by using Deutsch’s algorithm.[[1]](#clcam)\"\n"
   ]
  },
  {
   "cell_type": "markdown",
   "metadata": {},
   "source": [
    "## Quantum\n",
    "\n",
    "### Quantum Mechanics"
   ]
  },
  {
   "cell_type": "markdown",
   "metadata": {},
   "source": [
    "## Quantum Computing x Classical computing\n",
    "\n",
    "### Classical Computing\n",
    "\n",
    "#### Classical Bits\n",
    "#### Logic Gates\n",
    "\n",
    "### Quantum Computing \n",
    "\n",
    "#### Quantum Bits(Qubits)\n",
    "#### Quantum Gates\n",
    "#### Quantum Algorithms\n",
    "#### Quantum Hardware\n",
    "\n"
   ]
  },
  {
   "cell_type": "markdown",
   "metadata": {},
   "source": [
    "## The Deutsch's algorithm"
   ]
  },
  {
   "cell_type": "markdown",
   "metadata": {},
   "source": [
    "## Challenges and Future"
   ]
  },
  {
   "cell_type": "markdown",
   "metadata": {},
   "source": [
    "## Conclusion"
   ]
  },
  {
   "cell_type": "markdown",
   "metadata": {},
   "source": [
    "## Bibliography\n",
    "#### cl.cam\n",
    "\ttitle\t= {Quantum_Computing_Lecture_7},\n",
    "    URL     = {https://www.cl.cam.ac.uk/teaching/1920/QuantComp/Quantum_Computing_Lecture_7.pdf},\n",
    "    author\t= {www.cl.cam.ac.uk},\n",
    "    dateOfAccess\t= {26/10/2023}\n"
   ]
  }
 ],
 "metadata": {
  "kernelspec": {
   "display_name": "base",
   "language": "python",
   "name": "python3"
  },
  "language_info": {
   "codemirror_mode": {
    "name": "ipython",
    "version": 3
   },
   "file_extension": ".py",
   "mimetype": "text/x-python",
   "name": "python",
   "nbconvert_exporter": "python",
   "pygments_lexer": "ipython3",
   "version": "3.11.4"
  },
  "orig_nbformat": 4
 },
 "nbformat": 4,
 "nbformat_minor": 2
}
