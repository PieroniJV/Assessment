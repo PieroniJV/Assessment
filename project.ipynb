{
 "cells": [
  {
   "cell_type": "markdown",
   "metadata": {},
   "source": [
    "<hr>\n",
    "\n",
    "# <a id='toc1_'></a>[Deutsch's Algorithm](#toc0_)\n",
    "\n",
    "<hr>"
   ]
  },
  {
   "cell_type": "markdown",
   "metadata": {},
   "source": [
    "**Table of contents**<a id='toc1_1_'></a>    \n",
    "- [Deutsch's Algorithm](#toc1_)    \n",
    "  - [Table of contents](#toc1_1_)    \n",
    "  - [Introduction](#toc1_2_)    \n",
    "  - [Problem Statement](#toc1_3_)    \n",
    "    - [Black-Box Problem](#toc1_3_1_)    \n",
    "    - [Classical Solution](#toc1_3_2_)    \n",
    "  - [Quantum Principles](#toc1_4_)    \n",
    "    - [Superpostion](#toc1_4_1_)    \n",
    "    - [Interference](#toc1_4_2_)    \n",
    "  - [Deutsch's Algorithm](#toc1_5_)    \n",
    "    - [Algorithm Explanation](#toc1_5_1_)      \n",
    "  - [Quantum Circuit Implementation](#toc1_6_)    \n",
    "    - [Importing Libraries](#toc1_6_1_)    \n",
    "    - [Initialization](#toc1_6_2_)    \n",
    "    - [Hadamard Gates:](#toc1_6_2_)    \n",
    "    - [Oracle Circuit:](#toc1_6_2_)    \n",
    "    - [Additional Gates:](#toc1_6_2_)    \n",
    "    - [Measurement:](#toc1_6_3_)    \n",
    "  - [Circuit Visualization](#toc1_7_)\n",
    "    - [Visual Representation](#toc1_7_1_)    \n",
    "  - [Simulating the Quantum Circuit](#toc1_8_)\n",
    "    - [Setting up the Simulator](#toc1_8_1_)    \n",
    "    - [Running the Simulation](#toc1_8_2_)    \n",
    "    - [Results Analysis](#toc1_8_3_)    \n",
    "  - [Comparative Analysis](#toc1_9_)\n",
    "    - [Comparison with Classical Approach](#toc1_9_1_)     \n",
    "  - [Conclusion](#toc1_10_)\n",
    "    - [Summary of Findings](#toc1_10_1_) \n",
    "    - [Significance of Quantum Advantage](#toc1_10_2_) \n",
    "  - [Future Directions](#toc1_11_) \n",
    "    - [Applications Beyond Deutsch's Algorithm](#toc1_11_1_) \n",
    "  - [References](#toc1_12_)    \n",
    "      - [cl.cam](#toc1_11_1_1_)    \n",
    "      - [guidotti2018survey](#toc1_11_1_2_)    \n",
    "      - [zednik2021solving](#toc1_11_1_3_)    \n",
    "\n",
    "<!-- vscode-jupyter-toc-config\n",
    "\tnumbering=false\n",
    "\tanchor=true\n",
    "\tflat=false\n",
    "\tminLevel=1\n",
    "\tmaxLevel=6\n",
    "\t/vscode-jupyter-toc-config -->\n",
    "<!-- THIS CELL WILL BE REPLACED ON TOC UPDATE. DO NOT WRITE YOUR TEXT IN THIS CELL -->"
   ]
  },
  {
   "cell_type": "markdown",
   "metadata": {},
   "source": [
    "<hr>\n",
    "\n",
    "## <a id='toc1_2_'></a>[Introduction](#toc0_)\n",
    "\n",
    "<hr>\n",
    "\n",
    "### Overview of Quantum Computing\n",
    "---\n",
    "\n",
    "IBM defines quantum computing as <q>*a rapidly-emerging tehcnology* that harnesses the laws of quantum mechanics to solve problems **too complex for classical computers.**</q>  \n",
    "In classical computing, calculations are executed using bits as the fundamental unit of information, where each bit can represent either 0 or 1. In contrast, quantum computers utilize *qubits (quantum bits)*. \n",
    "\n",
    "Unlike classical bits, a qubit is not limited to a single, definitive state of 0 or 1; rather, it can exist in multiple states simultaneously. \n",
    "\n",
    "This unique property is called *superposition* and allows quantum computers to process a significantly larger number of possibilities than their classical counterparts. \n",
    "\n",
    "Qubits exhibit a distinctive characteristic known as *entanglement*, wherein the state of one qubit is intricately linked to the state of another, irrespective of the physical separation between them. This phenomenon, known as entanglement, forms a foundational element in quantum computing. \n",
    "\n",
    "Quantum computers harness not only entanglement but also another crucial property known as *interference* to enhance computational efficiency. Through the strategic utilization of entanglement and interference, quantum computers optimize their computational capabilities.\n",
    "\n",
    "### Why use quantum computing?\n",
    "---\n",
    "\n",
    "Despite the growing prevalence of large classical computers equipped with an increasing number of CPU and GPU cores, their fundamental limitation lies in their binary operation. If a supercomputer encounters challenges, it is typically because the **complex problem at hand exceeds the capabilities** of these large classical machines. The failure of classical computers is often rooted in their inherent difficulty handling **high levels of complexity**.\n",
    "\n",
    "As technology continues to advance, the **complexity of problems also escalates**, necessitating the adoption of *quantum computing*. This heightened complexity underscores the demand for quantum computing solutions. Presently, various fields leverage quantum computing technology to address **intricate challenges**, including but not limited to cryptography, machine learning, and calculations involving large factorial numbers.\n",
    "\n",
    "### The Deutsch's Algorithm\n",
    "---\n",
    "\n",
    "*Deutsch's Algorithm*, formulated by David Deutsch in 1985, is designed to tackle the \"black-box problem,\" a specific computational challenge that will be further examined in the subsequent chapter. In classical computing, discerning whether an unknown function is constant or balanced necessitates multiple queries. In stark contrast, **Deutsch's Algorithm achieves this task with remarkable efficiency, requiring just a single quantum query**. The algorithm adeptly distinguishes between four distinct function types: **constant zero, constant one, balanced zero, and balanced one**. This demonstration highlights the quantum advantage, as it outperforms classical approaches by showcasing the capability of quantum computation to efficiently solve particular problems with a minimal number of queries."
   ]
  },
  {
   "cell_type": "markdown",
   "metadata": {},
   "source": [
    "<hr>\n",
    "\n",
    "## <a id='toc1_3_'></a>[Problem Statement](#toc0_)\n",
    "\n",
    "<hr>\n",
    "\n",
    "### <a id='toc1_3_1_'></a>[Black-Box Problem](#toc0_)\n",
    "\n",
    "As previously stated, the *black-box problem* addressed by **Deutsch's Algorithm** revolves around determining the nature of an *unknown function* encapsulated within a black box. This function takes a *single-bit input* and produces a *single-bit output*. The main challenge is to categorize the function into one of four possible types as seen below. \n",
    "\n",
    "<img src=\"./assets/table1.png\" width=\"200\">\n",
    "\n",
    "- *Constant Function (C0)*: Always returns 0, regardless of the input.\n",
    "- *Constant Function (C1)*: Always returns 1, regardless of the input.\n",
    "- *Balanced Function (B0)*: Returns 0 for one input and 1 for the other.\n",
    "- *Balanced Function (B1)*: Returns 1 for one input and 0 for the other.\n",
    "\n",
    "The objective is to efficiently determine whether the black-box function falls into the category of a *constant function (either C0 or C1)* or a *balanced function (either B0 or B1)*. Emphasizing these four possible function types, **Deutsch's Algorithm** demonstrates a quantum advantage by solving this problem with just one query, showcasing the potency of quantum computation in specific problem domains.\n",
    "\n",
    "<hr>\n",
    "\n",
    "### <a id='toc1_3_2_'></a>[Classical Solution](#toc0_)\n",
    "\n",
    "In the classical approach to solving the *black-box problem*, the strategy is to make queries to the *unknown function* within the blac-box. Here is how this works:\n",
    "\n",
    "1. <u>Query for input 0(Classical bit 0):</u> Query the black-box function with an input of 0.\n",
    "2. <u>Query for input 1(Classical bit 1):</u> Query the black-box function with an input of 1.\n",
    "3. <u>Compare outputs:</u> Examine the outputs for both queries. If the outputs are the same (both 0 or both 1), the function is classified as \"constant.\" If the outputs are different (one is 0 and the other is 1), the function is classified as \"balanced.\"\n",
    "\n",
    "The issue with this approach is that this has a few limitations, such as:\n",
    "\n",
    "- <u>Query complexity:</u> This approach requires at least two queries to the function before it can determine if the function is *constant* or *balanced*. Which leads to the next limitation.\n",
    "\n",
    "- <u>Scalability issues:</u> As the *complexity of the problem* grows, and with larger input spaces or more intricate functions, the classical approach's query complexity increases linearly. This scalability issue makes the classical solution less efficient for complex problems.\n",
    "\n",
    "- <u>Inefficiency for Quantum Problems:</u> The *classical approach* contrasts with quantum algorithms like Deutsch's Algorithm, which demonstrate a *quantum advantage* by solving the problem with only one query. The classical method becomes inefficient when compared to quantum solutions for specific problems due to the inherent limitations of sequential query-based approaches.\n",
    "\n",
    "In the realm of less intricate problems, the *classical approach* remains effective. However, as the complexity of problems escalates or when grappling with quantum scenarios, the classical methodology becomes increasingly impractical. **Quantum problems**, in particular, often surpass the computational capacity of classical approaches, underscoring the need for quantum computing solutions in navigating challenges of heightened intricacy."
   ]
  },
  {
   "cell_type": "markdown",
   "metadata": {},
   "source": [
    "<hr>\n",
    "\n",
    "## <a id='toc1_4_'></a>[Quantum Principles](#toc0_)\n",
    "\n",
    "<hr>\n",
    "\n",
    "### <a id='toc1_4_1_'></a>[Superpostion](#toc0_)\n",
    "\n",
    "**Superposition** is a fundamental quantum principle that allows quantum bits(Qubits) to exist in multiple states simultaneously. Here is how this is defined:\n",
    "\n",
    "$\\text{Superposition} = \\alpha|0\\rangle + \\beta|1\\rangle$\n",
    "\n",
    "- $\\alpha \\text{ and } \\beta$ are complex numbers that determine the *probability* of measuring the qubit in the state $0$ or $1$\n",
    "- $|0\\rangle$ represents the quantum state where the qubit is in the logical state 0.\n",
    "- $|1\\rangle$ represents the quantum state where the qubit is in the logical state 1.\n",
    "\n",
    "In **superposition**, a qubit is not definitively in state 0 or state 1; instead, it exists as a *combination of both states*. The probabilities $\\alpha \\text{ and } \\beta$ can be djusted, allowing for various degrees of mixing between the two states. When measured, the qubit collapses into one of the basis states (0 or 1) with probabilities determined by $\\alpha \\text{ and } \\beta$\n",
    "\n",
    "Superposition is a powerful property of qubits that *enables quantum computers to process multiple possibilities simultaneously*, providing a significant advantage over classical bits for certain types of computations.\n",
    "\n",
    "### <a id='toc1_4_2_'></a>[Interference](#toc0_)\n",
    "\n",
    "**Interference** in the context of quantum computation refers to the phenomenon where quantum states, such as those of qubits, combine in a way that their amplitudes *reinforce or cancel each other out* when measured.\n",
    "\n",
    "- **Superposition Sets the Stage:** Interference is intimately tied to the principle of superposition. When a qubit is in superposition, it exists in a combination of multiple states, each associated with a *probability amplitude*.\n",
    "\n",
    "- **Amplitudes and Probabilities:** The amplitudes of these quantum states are complex numbers, and their magnitudes squared give the probabilities of measuring the qubit in a particular state. For example, in the superposition $\\alpha|0\\rangle + \\beta|1\\rangle,\\alpha^2$ is the probability of measuring the qubit in state $|0\\rangle$, and $\\beta^2$ is the probability of measuring it in the state $|1\\rangle$.\n",
    "\n",
    "- **Interference Effects:** Interference occurs when the amplitudes of different quantum states interact. *When two amplitudes have opposite signs, they can cancel each other out **(destructive interference)***, leading to a reduced probability of measuring the qubit in any state. *When two amplitudes have the same sign, they can reinforce each other **(constructive interference)***, increasing the probability of measuring the qubit in a particular state.\n",
    "\n",
    "- **Quantum Algorithms:** Quantum algorithms, such as *Deutsch's Algorithm* and Grover's Algorithm, leverage interference to perform computations more efficiently than classical counterparts. They manipulate quantum states in a way that *constructive interference enhances the probability of measuring the correct answer while destructive interference reduces the probability of incorrect answers*.\n",
    "\n",
    "- **Quantum Advantage:** Interference is at the heart of why quantum algorithms can provide significant speedup in solving certain problems. By carefully designing quantum circuits to *exploit interference*, quantum computers can explore multiple solutions simultaneously, leading to faster and more efficient computations."
   ]
  },
  {
   "cell_type": "markdown",
   "metadata": {},
   "source": [
    "In conclusion, **superpostion** can be looked at as the initial mix of possibilities, and **interference** is what happens when those possibilities interact, making some outcomes more likely and others less likely. These quantum phenomena are crucial for quantum algorithms to perform computations more efficiently than classical ones."
   ]
  },
  {
   "cell_type": "markdown",
   "metadata": {},
   "source": [
    "<hr>\n",
    "\n",
    "## <a id='toc1_5_'></a>[Deutsch's Algorithm](#toc0_)\n",
    "\n",
    "<hr>\n",
    "\n",
    "### <a id='toc1_5_1_'></a>[Algorithm Explanation](#toc0_)\n",
    "\n",
    "Here is how the **Deutsch's Algorithm** can be described:\n",
    "\n",
    "- **Initialization:**\n",
    "    - Prepare two qubits. Set the first qubit to $|0\\rangle$ and the second to $|1\\rangle$\n",
    "    - Apply a *Hadamard gate* to both qubits. This transforms the qubits into a *superpostion* of all possible states: $|00\\rangle + |01\\rangle$, where both are present with equal amplitudes.\n",
    "- **Oracle Circuit (Black-Box Function):**\n",
    "    - In this step, we apply the black-box function, often referred to as the oracle, to the qubits. The oracle represents the unknown function we want to evaluate.\n",
    "    - In the *Oracle function* we evaluate the two qubits as inputs and perform operations on them: $|xy\\rangle \\rightarrow |x, y \\oplus f(x)\\rangle$. \n",
    "\n",
    "    - In this function, $x \\text{ and } y$ represent the two qubits(inputs), $f(x)$ is the function to be evaluated and $\\oplus$ is the *XOR operation*, this combines the value of the second qubit $y(q1)$ with the output of the black-box function $f(x)$. This operation flips the second qubit if $f(x)$ is 1 and leaves it unchanged if $f(x)$ is 0.\n",
    "- **Hadamard Gates Again:**\n",
    "    - After applying the oracle function, we apply *Hadamard gates* to the first qubit $x(q0)$ again. \n",
    "    - The *Hadamard gate* is applied to $q(0)$, creating a superposition of its possible outcomes. \n",
    "    This step prepares the system for interference, which is crucial for distinguishing between constant and balanced functions.\n",
    "- **Measurement:**\n",
    "    - In this final step, we measure the first qubit. The measurement result is either 0 or 1. The outcome of the measurement provides information about the nature of the black-box function: \n",
    "    - If the measurement result is 0, it indicates that the function $f(x)$ is *constant* (either C0 or C1).\n",
    "    - If the measurement result is 1, it indicates that the function $f(x)$ is *balanced* (either B0 or B1).\n",
    "\n",
    "The biggest take-away from this is that the  measurement result provides a definitive answer to the problem of determining the type of the black-box function using *only one query*, demonstrating the *quantum advantage* of Deutsch's Algorithm."
   ]
  },
  {
   "cell_type": "markdown",
   "metadata": {},
   "source": [
    "<hr>\n",
    "\n",
    "## <a id='toc1_6_'></a>[Quantum Circuit Implementation](#toc0_)\n",
    "\n",
    "<hr>\n",
    "\n",
    "This is a demonstration of the Deutsch's Algorithm using Python.\n",
    "\n",
    "### <a id='toc1_6_1_'></a>[Importing Libraries](#toc0_)\n",
    "\n",
    "- For this demonstration I will use the **Qiskit** library. This is a Python library used for *Quantum Computing*. "
   ]
  },
  {
   "cell_type": "code",
   "execution_count": 8,
   "metadata": {},
   "outputs": [],
   "source": [
    "# Import necessary libraries from Qiskit\n",
    "from qiskit import QuantumCircuit, QuantumRegister, ClassicalRegister"
   ]
  },
  {
   "cell_type": "markdown",
   "metadata": {},
   "source": [
    "### <a id='toc1_6_2_'></a>[Initialization](#toc0_)\n",
    "\n",
    "- We create a quantum circuit called `circuit`.\n",
    "- We set up two qubits using `QuantumRegister(2)` named `qreg`. These will be `q[0]` and `q[1]`.\n",
    "- Finally, the two classical bits using `ClassicalRegister(2)` named `creg`. These will be `c[0]` and `c[1]`."
   ]
  },
  {
   "cell_type": "code",
   "execution_count": 9,
   "metadata": {},
   "outputs": [],
   "source": [
    "# Create a quantum circuit with 2 qubits and 2 classical bits\n",
    "# Qubits q[0] and q[1], and classical bits c[0] and c[1]\n",
    "qreg = QuantumRegister(2)\n",
    "creg = ClassicalRegister(2)\n",
    "circuit = QuantumCircuit(qreg, creg)"
   ]
  },
  {
   "cell_type": "markdown",
   "metadata": {},
   "source": [
    "### <a id='toc1_6_3_'></a>[Hadamard Gates](#toc0_)\n",
    "\n",
    "- Next we apply **Hadamard gates** (`H`) to both qubits `q[0]` and `q[1]`. This creates a *superposition* of states for both qubits."
   ]
  },
  {
   "cell_type": "code",
   "execution_count": 10,
   "metadata": {},
   "outputs": [
    {
     "data": {
      "text/plain": [
       "<qiskit.circuit.instructionset.InstructionSet at 0x2849c699a20>"
      ]
     },
     "execution_count": 10,
     "metadata": {},
     "output_type": "execute_result"
    }
   ],
   "source": [
    "# Apply Hadamard gate (H) to both qubits\n",
    "circuit.h(qreg[0])\n",
    "circuit.h(qreg[1])"
   ]
  },
  {
   "cell_type": "markdown",
   "metadata": {},
   "source": [
    "### <a id='toc1_6_4_'></a>[Oracle Circuit](#toc0_)\n",
    "\n",
    "- Now we build the **Oracle Circuit** that represents the black-box function. Assuming we have a *balanced function* $f(x)$ that flips the second qubit if the first qubit is set. \n",
    "\n",
    "- The `oracle_circuit` function takes the `circuit` and `qreg` as arguments. \n",
    "- In this function, we use the *Controlled-X(CNOT) gate* to perform the oracle operation. This gate flips the second qubit(`q[1]`) if the first qubit(`q[0]`) is set.\n",
    "- Next we can apply the `oracle_circuit` to the qubits to represent the *black-box function* $f(x)$.\n",
    "\n",
    "- It is important to note that depending on the actual black-box function you want to evaluate, the implementation of the oracle may vary.\n",
    "\n",
    "Here is the example:"
   ]
  },
  {
   "cell_type": "code",
   "execution_count": 11,
   "metadata": {},
   "outputs": [],
   "source": [
    "# Define the oracle function f(x) that flips q[1] if q[0] is set\n",
    "def oracle_circuit(circuit, qreg):\n",
    "    circuit.cx(qreg[0], qreg[1])  # Controlled-X (CNOT) gate\n",
    "    \n",
    "# Apply the oracle function to the qubits\n",
    "oracle_circuit(circuit, qreg)"
   ]
  },
  {
   "cell_type": "markdown",
   "metadata": {},
   "source": [
    "### <a id='toc1_6_5_'></a>[Additional Gates](#toc0_)\n",
    "\n",
    "- After the *oracle function* is applied, we need to apply additional gates to the first qubit (`q[0]`) before measurement. These are essential for *Interference*, which as mentioned, is a key part of the algorithm to distinguish between *constant and balanced functions*. "
   ]
  },
  {
   "cell_type": "code",
   "execution_count": 12,
   "metadata": {},
   "outputs": [
    {
     "data": {
      "text/plain": [
       "<qiskit.circuit.instructionset.InstructionSet at 0x2849c69a530>"
      ]
     },
     "execution_count": 12,
     "metadata": {},
     "output_type": "execute_result"
    }
   ],
   "source": [
    "# Apply Hadamard gate (H) to the first qubit\n",
    "circuit.h(qreg[0])"
   ]
  },
  {
   "cell_type": "markdown",
   "metadata": {},
   "source": [
    "### <a id='toc1_6_6_'></a>[Measurement](#toc0_)\n",
    "\n",
    "- This is the final step in the Deutsch's Algorithm. Here we add measurement operation to extract the results and determine the nature of the black-box function.\n",
    "- We use the `measure` method to measure the first qubit(`q[0]`) and store the measurement result in the first classical bit (`c[0]`).\n",
    "- Similarly, we measure the second qubit(`q[1]`) and store the measurement result in the second classical bit (`c[1]`)."
   ]
  },
  {
   "cell_type": "code",
   "execution_count": 13,
   "metadata": {},
   "outputs": [
    {
     "data": {
      "text/plain": [
       "<qiskit.circuit.instructionset.InstructionSet at 0x2849c69a440>"
      ]
     },
     "execution_count": 13,
     "metadata": {},
     "output_type": "execute_result"
    }
   ],
   "source": [
    "# Step 4: Measurement\n",
    "\n",
    "# Measure the first qubit (q[0]) and store the result in c[0]\n",
    "circuit.measure(qreg[0], creg[0])\n",
    "\n",
    "# Measure the second qubit (q[1]) and store the result in c[1]\n",
    "circuit.measure(qreg[1], creg[1])\n"
   ]
  },
  {
   "cell_type": "markdown",
   "metadata": {},
   "source": [
    "- The measurement result will be one of the values: ${00, 01, 10, 11}$.\n",
    "- If the measurement result is 00 or 11, it indicates that $f(x)$ is a *constant function*, (C0 or C1).\n",
    "- If the measurement result is 01 or 10 it indicates that $f(x)$ is a *balanced function*, (B0 or B1).\n"
   ]
  },
  {
   "cell_type": "markdown",
   "metadata": {},
   "source": [
    "<hr>\n",
    "\n",
    "## <a id='toc1_7_'></a>[Circuit Visualization](#toc0_)\n",
    "\n",
    "<hr>\n",
    "\n",
    "### <a id='toc1_7_1_'></a>[Visual Representation](#toc0_)\n",
    "\n",
    "- In order to visualize the quantum circuit object we can use the `Qiskit's` visualization module. "
   ]
  },
  {
   "cell_type": "code",
   "execution_count": 14,
   "metadata": {},
   "outputs": [
    {
     "data": {
      "image/png": "[encoded data removed]",
      "text/plain": [
       "<Figure size 472.747x284.278 with 1 Axes>"
      ]
     },
     "execution_count": 14,
     "metadata": {},
     "output_type": "execute_result"
    }
   ],
   "source": [
    "# Import necessary libraries from Qiskit\n",
    "from qiskit.visualization import circuit_drawer\n",
    "\n",
    "# Visualize the quantum circuit and display it as a Matplotlib figure\n",
    "circuit_drawer(circuit, output=\"mpl\")"
   ]
  },
  {
   "cell_type": "markdown",
   "metadata": {},
   "source": [
    "#### Breakdown\n",
    "\n",
    "In this representation we can see the following components of the circuit:\n",
    "\n",
    "- **Qubits** ($q0_0 \\text{ and } q0_1$).\n",
    "- **Gates** (`H`, Oracle($\\oplus$) and `H`):\n",
    "    - The `H` represents the Hadamard gates used to create a *superposition*.\n",
    "    - The *oracle function* applied to the qubits, which is a custom operation you define in your algorithm. \n",
    "- **Lines and Arrows**: \n",
    "    - The *lines* connecting the qubits and gates represent the quantum wires or qubits states. \n",
    "    - The *arrows* indicate the direction of the quantum operations, showing that the gates are applied to qubits.\n",
    "- **Classical bits** (`C0`): \n",
    "    - C0 is a classical bit abd it stores the measurement results. The label \"2/\" indicates that it is a 2-bit classical register.\n",
    "- **Measurement** (`M`): \n",
    "    - M represents the measurements performed on the qubits. The outcome is stored in the *classical bits*.\n",
    "- **Control flow**: \n",
    "    - The operations are performed in the order that they appear, from left to right."
   ]
  },
  {
   "cell_type": "markdown",
   "metadata": {},
   "source": [
    "<hr>\n",
    "\n",
    "## <a id='toc1_8_'></a>[Simulating the Quantum Circuit](#toc0_)\n",
    "\n",
    "<hr>\n",
    "\n",
    "Next the idea is to simulate the quantum circuit in python, using the Qiskit Aer simulator. This tool provides a fast an accurate way to simulate quantum circuits.\n",
    "\n",
    "### <a id='toc1_8_1_'></a>[Setting up the Simulator](#toc0_)\n",
    "\n",
    "- First, we import the `Aer` library from Qiskit for simulating and the `execute` for running the simulations.\n",
    "- We then choose a suitable simulator that supports *measurements*, `Aer.get_backend('qasm_simulator')`.\n",
    "- The `num_shots` determines how many times the circuit will run in the simulation. The more shots, the more accurate the results but also it may take longer to simulate. This number can be adjusted as needed. "
   ]
  },
  {
   "cell_type": "code",
   "execution_count": null,
   "metadata": {},
   "outputs": [],
   "source": [
    "# Import necessary libraries from Qiskit\n",
    "from qiskit import Aer, execute\n",
    "\n",
    "# Choose the Aer simulator\n",
    "simulator = Aer.get_backend('qasm_simulator')\n",
    "\n",
    "# Set the number of shots (simulated experiments)\n",
    "num_shots = 1024  # You can adjust this number as needed"
   ]
  },
  {
   "cell_type": "markdown",
   "metadata": {},
   "source": [
    "### <a id='toc1_8_2_'></a>[Running the Simulation](#toc0_)\n",
    "\n",
    "- We continue by using the `execute` to run the simulation.\n",
    "- This uses the `circuit` created previously.\n",
    "- A `job` uses the `circuit`, the `simulator` and the `shots` to run the simulation.\n",
    "- We then obtain the results of the simulation, retrieve it and display it. "
   ]
  },
  {
   "cell_type": "code",
   "execution_count": null,
   "metadata": {},
   "outputs": [],
   "source": [
    "# Create a job to run the simulation\n",
    "job = execute(circuit, simulator, shots=num_shots)\n",
    "\n",
    "# Get the results of the simulation\n",
    "results = job.result()\n",
    "\n",
    "# Retrieve the counts of measurement outcomes\n",
    "counts = results.get_counts(circuit)\n",
    "\n",
    "# Display the measurement outcomes and their probabilities\n",
    "print(\"Measurement outcomes:\", counts)"
   ]
  },
  {
   "cell_type": "markdown",
   "metadata": {},
   "source": [
    "### <a id='toc1_8_3_'></a>[Results Analysis](#toc0_)\n",
    "\n",
    "The analysis is the most crucial part of the algorithm, where the nature of the black-box function is determined(*constant or balanced*). \n",
    "Here is how we can analyze the results of the simulation:\n",
    "\n",
    "1. **Retrieve the outcomes:**\n",
    "    By using `results.get_counts(circuit)` we can obtain the outcomes and then store it in the `counts` variable.\n",
    "2. **Understanding the outcomes:**\n",
    "    The outcomes represent the possible states of the qubits after measurement, along with the number of times each outcome was observed. These outcomes are in the form of binary strings, where the first digit represents the measurement result for `q0` and the second digit represnts the measurement result for `q1`. \n",
    "3. **Interpretation of the outcomes:**\n",
    "    As previously seen:\n",
    "    - If the measurement outcomes contain only the states *00 and 11*, it indicates that the black-box function is **constant**. This means that the oracle function applied to the qubits *does not depend on the input and has a constant output*.\n",
    "    - If the measurement outcomes contain both *01 and 10*, it indicates that the black-box function is **balanced**. This means that *the oracle function applied to the qubits changes the state of the second qubit based on the input*.\n",
    "4. **Probability analysis:**\n",
    "    One of the last steps is to examine the probabilities associated with each measurement outcome. \n",
    "    - In a **balanced** function, a roughly equal probability should be observed for `01` and `10` outcomes.\n",
    "    - In a **constant** function, you should see a higher probability for either `00` or `11`.\n",
    "5. **Final decision:**\n",
    "    Once you have the outcomes and probabilities, you can make a final decision regarding the nature of the black-box function. As previously discussed, If you observe only `00` and `11` outcomes, conclude that the function is **constant**. If you observe both `01` and `10` outcomes, conclude that the function is **balanced**.\n",
    "\n",
    "Here is an example of this analysis:"
   ]
  },
  {
   "cell_type": "code",
   "execution_count": null,
   "metadata": {},
   "outputs": [],
   "source": [
    "# Interpretation\n",
    "if '01' in counts and '10' in counts:\n",
    "    print(\"The black-box function is balanced.\")\n",
    "elif '00' in counts and '11' in counts:\n",
    "    print(\"The black-box function is constant.\")\n",
    "# Error handling\n",
    "else:\n",
    "    print(\"The simulation results are inconclusive.\")"
   ]
  },
  {
   "cell_type": "markdown",
   "metadata": {},
   "source": [
    "<hr>\n",
    "\n",
    "## <a id='toc1_9_'></a>[Comparative Analysis](#toc0_)\n",
    "\n",
    "<hr>\n",
    "\n",
    "### <a id='toc1_9_1_'></a>[Comparison with Classical Approach](#toc0_)\n"
   ]
  },
  {
   "cell_type": "markdown",
   "metadata": {},
   "source": [
    "<hr>\n",
    "\n",
    "## <a id='toc1_10_'></a>[Conclusion](#toc0_)\n",
    "\n",
    "<hr>\n",
    "\n",
    "### <a id='toc1_10_1_'></a>[Summary of Findings](#toc0_)\n",
    "### <a id='toc1_10_2_'></a>[Significance of Quantum Advantage](#toc0_)\n"
   ]
  },
  {
   "cell_type": "markdown",
   "metadata": {},
   "source": [
    "<hr>\n",
    "\n",
    "## <a id='toc1_11_'></a>[Future Directions](#toc0_)\n",
    "\n",
    "<hr>\n",
    "\n",
    "### <a id='toc1_11_1_'></a>[Applications Beyond Deutsch's Algorithm](#toc0_)\n"
   ]
  },
  {
   "cell_type": "markdown",
   "metadata": {},
   "source": [
    "<hr>\n",
    "\n",
    "## <a id='toc1_12_'></a>[References](#toc0_)\n",
    "\n",
    "<hr>\n",
    "\n",
    "#### <a id='toc1_11_1_1_'></a>[cl.cam](#toc0_)\n",
    "\ttitle\t= {Quantum_Computing_Lecture_7},\n",
    "    URL     = {https://www.cl.cam.ac.uk/teaching/1920/QuantComp/Quantum_Computing_Lecture_7.pdf},\n",
    "    author\t= {www.cl.cam.ac.uk},\n",
    "    dateOfAccess\t= {26/10/2023}\n",
    "\n",
    "#### <a id='toc1_11_1_2_'></a>[guidotti2018survey](#toc0_)\n",
    "  title={A survey of methods for explaining black box models},\n",
    "  author={Guidotti, Riccardo and Monreale, Anna and Ruggieri, Salvatore and Turini, Franco and Giannotti, Fosca and Pedreschi, Dino},\n",
    "  journal={ACM computing surveys (CSUR)},\n",
    "  volume={51},\n",
    "  number={5},\n",
    "  pages={1--42},\n",
    "  year={2018},\n",
    "  publisher={ACM New York, NY, USA}\n",
    "\n",
    "#### <a id='toc1_11_1_3_'></a>[zednik2021solving](#toc0_)\n",
    "  title={Solving the black box problem: A normative framework for explainable artificial intelligence},\n",
    "  author={Zednik, Carlos},\n",
    "  journal={Philosophy \\& technology},\n",
    "  volume={34},\n",
    "  number={2},\n",
    "  pages={265--288},\n",
    "  year={2021},\n",
    "  publisher={Springer}\n",
    "\n",
    "Quantum circuits: https://learn.qiskit.org/course/basics/quantum-circuits\n",
    "Quantum Computing vs Classical Computing: https://devtechnosys.com/insights/tech-comparison/quantum-computing-vs-classical-computing/#:~:text=Classical%20computing%20relies%20on%20binary,This%20is%20known%20as%20superposition.\n",
    "\n"
   ]
  }
 ],
 "metadata": {
  "kernelspec": {
   "display_name": "base",
   "language": "python",
   "name": "python3"
  },
  "language_info": {
   "codemirror_mode": {
    "name": "ipython",
    "version": 3
   },
   "file_extension": ".py",
   "mimetype": "text/x-python",
   "name": "python",
   "nbconvert_exporter": "python",
   "pygments_lexer": "ipython3",
   "version": "3.11.4"
  },
  "orig_nbformat": 4
 },
 "nbformat": 4,
 "nbformat_minor": 2
}
