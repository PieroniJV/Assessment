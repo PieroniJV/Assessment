{
 "cells": [
  {
   "cell_type": "markdown",
   "metadata": {},
   "source": [
    "<hr>\n",
    "\n",
    "# <a id='toc1_'></a>[Deutsch's Algorithm](#toc0_)\n",
    "\n",
    "<hr>"
   ]
  },
  {
   "cell_type": "markdown",
   "metadata": {},
   "source": [
    "**Table of contents**<a id='toc0_'></a>    \n",
    "- [Deutsch's Algorithm](#toc1_)    \n",
    "  - [Table of contents](#toc1_1_)    \n",
    "  - [Introduction](#toc1_2_)    \n",
    "  - [Problem Statement](#toc1_3_)    \n",
    "    - [Black-Box Problem](#toc1_3_1_)    \n",
    "    - [Classical Solution](#toc1_3_2_)    \n",
    "  - [Quantum Principles](#toc1_4_)    \n",
    "    - [Superpostion](#toc1_4_1_)    \n",
    "    - [Interference](#toc1_4_2_)    \n",
    "  - [Deutsch's Algorithm](#toc1_5_)    \n",
    "    - [Algorithm Explanation](#toc1_5_1_)    \n",
    "    - [Quantum Circuit](#toc1_5_2_)    \n",
    "  - [Quantum Circuit Implementation](#toc1_6_)    \n",
    "    - [Logic](#toc1_6_1_)    \n",
    "    - [Circuit Visualization](#toc1_6_2_)    \n",
    "  - [Simulating the Quantum Circuit](#toc1_7_)    \n",
    "  - [Comparative Analysis](#toc1_8_)    \n",
    "  - [Challenges and Future](#toc1_9_)    \n",
    "  - [Conclusion](#toc1_10_)    \n",
    "  - [Bibliography](#toc1_11_)    \n",
    "      - [cl.cam](#toc1_11_1_1_)    \n",
    "      - [guidotti2018survey](#toc1_11_1_2_)    \n",
    "      - [zednik2021solving](#toc1_11_1_3_)    \n",
    "\n",
    "<!-- vscode-jupyter-toc-config\n",
    "\tnumbering=false\n",
    "\tanchor=true\n",
    "\tflat=false\n",
    "\tminLevel=1\n",
    "\tmaxLevel=6\n",
    "\t/vscode-jupyter-toc-config -->\n",
    "<!-- THIS CELL WILL BE REPLACED ON TOC UPDATE. DO NOT WRITE YOUR TEXT IN THIS CELL -->"
   ]
  },
  {
   "cell_type": "markdown",
   "metadata": {},
   "source": [
    "<hr>\n",
    "\n",
    "## <a id='toc1_2_'></a>[Introduction](#toc0_)\n",
    "\n",
    "<hr>\n",
    "\n",
    "### Overview of Quantum Computing\n",
    "---\n",
    "\n",
    "IBM defines quantum computing as <q>*a rapidly-emerging tehcnology* that harnesses the laws of quantum mechanics to solve problems **too complex for classical computers.**</q>  \n",
    "In classical computing, calculations are executed using bits as the fundamental unit of information, where each bit can represent either 0 or 1. In contrast, quantum computers utilize *qubits (quantum bits)*. \n",
    "\n",
    "Unlike classical bits, a qubit is not limited to a single, definitive state of 0 or 1; rather, it can exist in multiple states simultaneously. \n",
    "\n",
    "This unique property is called *superposition* and allows quantum computers to process a significantly larger number of possibilities than their classical counterparts. \n",
    "\n",
    "Qubits exhibit a distinctive characteristic known as *entanglement*, wherein the state of one qubit is intricately linked to the state of another, irrespective of the physical separation between them. This phenomenon, known as entanglement, forms a foundational element in quantum computing. \n",
    "\n",
    "Quantum computers harness not only entanglement but also another crucial property known as *interference* to enhance computational efficiency. Through the strategic utilization of entanglement and interference, quantum computers optimize their computational capabilities.\n",
    "\n",
    "### Why use quantum computing?\n",
    "---\n",
    "\n",
    "Despite the growing prevalence of large classical computers equipped with an increasing number of CPU and GPU cores, their fundamental limitation lies in their binary operation. If a supercomputer encounters challenges, it is typically because the **complex problem at hand exceeds the capabilities** of these large classical machines. The failure of classical computers is often rooted in their inherent difficulty handling **high levels of complexity**.\n",
    "\n",
    "As technology continues to advance, the **complexity of problems also escalates**, necessitating the adoption of *quantum computing*. This heightened complexity underscores the demand for quantum computing solutions. Presently, various fields leverage quantum computing technology to address **intricate challenges**, including but not limited to cryptography, machine learning, and calculations involving large factorial numbers.\n",
    "\n",
    "### The Deutsch's Algorithm\n",
    "---\n",
    "\n",
    "*Deutsch's Algorithm*, formulated by David Deutsch in 1985, is designed to tackle the \"black-box problem,\" a specific computational challenge that will be further examined in the subsequent chapter. In classical computing, discerning whether an unknown function is constant or balanced necessitates multiple queries. In stark contrast, **Deutsch's Algorithm achieves this task with remarkable efficiency, requiring just a single quantum query**. The algorithm adeptly distinguishes between four distinct function types: **constant zero, constant one, balanced zero, and balanced one**. This demonstration highlights the quantum advantage, as it outperforms classical approaches by showcasing the capability of quantum computation to efficiently solve particular problems with a minimal number of queries."
   ]
  },
  {
   "cell_type": "markdown",
   "metadata": {},
   "source": [
    "<hr>\n",
    "\n",
    "## <a id='toc1_3_'></a>[Problem Statement](#toc0_)\n",
    "\n",
    "<hr>\n",
    "\n",
    "### <a id='toc1_3_1_'></a>[Black-Box Problem](#toc0_)\n",
    "\n",
    "As previously stated, the *black-box problem* addressed by **Deutsch's Algorithm** revolves around determining the nature of an *unknown function* encapsulated within a black box. This function takes a *single-bit input* and produces a *single-bit output*. The main challenge is to categorize the function into one of four possible types as seen below. \n",
    "\n",
    "<img src=\"./assets/table1.png\" width=\"200\">\n",
    "\n",
    "- *Constant Function (C0)*: Always returns 0, regardless of the input.\n",
    "- *Constant Function (C1)*: Always returns 1, regardless of the input.\n",
    "- *Balanced Function (B0)*: Returns 0 for one input and 1 for the other.\n",
    "- *Balanced Function (B1)*: Returns 1 for one input and 0 for the other.\n",
    "\n",
    "The objective is to efficiently determine whether the black-box function falls into the category of a *constant function (either C0 or C1)* or a *balanced function (either B0 or B1)*. Emphasizing these four possible function types, **Deutsch's Algorithm** demonstrates a quantum advantage by solving this problem with just one query, showcasing the potency of quantum computation in specific problem domains.\n",
    "\n",
    "<hr>\n",
    "\n",
    "### <a id='toc1_3_2_'></a>[Classical Solution](#toc0_)\n",
    "\n",
    "In the classical approach to solving the *black-box problem*, the strategy is to make queries to the *unknown function* within the blac-box. Here is how this works:\n",
    "\n",
    "1. <u>Query for input 0(Classical bit 0):</u> Query the black-box function with an input of 0.\n",
    "2. <u>Query for input 1(Classical bit 1):</u> Query the black-box function with an input of 1.\n",
    "3. <u>Compare outputs:</u> Examine the outputs for both queries. If the outputs are the same (both 0 or both 1), the function is classified as \"constant.\" If the outputs are different (one is 0 and the other is 1), the function is classified as \"balanced.\"\n",
    "\n",
    "The issue with this approach is that this has a few limitations, such as:\n",
    "\n",
    "- <u>Query complexity:</u> This approach requires at least two queries to the function before it can determine if the function is *constant* or *balanced*. Which leads to the next limitation.\n",
    "\n",
    "- <u>Scalability issues:</u> As the *complexity of the problem* grows, and with larger input spaces or more intricate functions, the classical approach's query complexity increases linearly. This scalability issue makes the classical solution less efficient for complex problems.\n",
    "\n",
    "- <u>Inefficiency for Quantum Problems:</u> The *classical approach* contrasts with quantum algorithms like Deutsch's Algorithm, which demonstrate a *quantum advantage* by solving the problem with only one query. The classical method becomes inefficient when compared to quantum solutions for specific problems due to the inherent limitations of sequential query-based approaches.\n",
    "\n",
    "In the realm of less intricate problems, the *classical approach* remains effective. However, as the complexity of problems escalates or when grappling with quantum scenarios, the classical methodology becomes increasingly impractical. **Quantum problems**, in particular, often surpass the computational capacity of classical approaches, underscoring the need for quantum computing solutions in navigating challenges of heightened intricacy."
   ]
  },
  {
   "cell_type": "markdown",
   "metadata": {},
   "source": [
    "<hr>\n",
    "\n",
    "## <a id='toc1_4_'></a>[Quantum Principles](#toc0_)\n",
    "\n",
    "<hr>\n",
    "\n",
    "### <a id='toc1_4_1_'></a>[Superpostion](#toc0_)\n",
    "\n",
    "### <a id='toc1_4_2_'></a>[Interference](#toc0_)"
   ]
  },
  {
   "cell_type": "markdown",
   "metadata": {},
   "source": [
    "<hr>\n",
    "\n",
    "## <a id='toc1_5_'></a>[Deutsch's Algorithm](#toc0_)\n",
    "\n",
    "<hr>\n",
    "\n",
    "### <a id='toc1_5_1_'></a>[Algorithm Explanation](#toc0_)\n",
    "\n",
    "### <a id='toc1_5_2_'></a>[Quantum Circuit](#toc0_)"
   ]
  },
  {
   "cell_type": "markdown",
   "metadata": {},
   "source": [
    "<hr>\n",
    "\n",
    "## <a id='toc1_6_'></a>[Quantum Circuit Implementation](#toc0_)\n",
    "\n",
    "<hr>\n",
    "\n",
    "### <a id='toc1_6_1_'></a>[Logic](#toc0_)\n",
    "\n",
    "### <a id='toc1_6_2_'></a>[Circuit Visualization](#toc0_)"
   ]
  },
  {
   "cell_type": "markdown",
   "metadata": {},
   "source": [
    "<hr>\n",
    "\n",
    "## <a id='toc1_7_'></a>[Simulating the Quantum Circuit](#toc0_)\n",
    "\n",
    "<hr>"
   ]
  },
  {
   "cell_type": "markdown",
   "metadata": {},
   "source": [
    "<hr>\n",
    "\n",
    "## <a id='toc1_8_'></a>[Comparative Analysis](#toc0_)\n",
    "\n",
    "<hr>"
   ]
  },
  {
   "cell_type": "markdown",
   "metadata": {},
   "source": [
    "<hr>\n",
    "\n",
    "## <a id='toc1_9_'></a>[Challenges and Future](#toc0_)\n",
    "\n",
    "<hr>"
   ]
  },
  {
   "cell_type": "markdown",
   "metadata": {},
   "source": [
    "<hr>\n",
    "\n",
    "## <a id='toc1_10_'></a>[Conclusion](#toc0_)\n",
    "\n",
    "<hr>"
   ]
  },
  {
   "cell_type": "markdown",
   "metadata": {},
   "source": [
    "<hr>\n",
    "\n",
    "## <a id='toc1_11_'></a>[Bibliography](#toc0_)\n",
    "\n",
    "<hr>\n",
    "\n",
    "#### <a id='toc1_11_1_1_'></a>[cl.cam](#toc0_)\n",
    "\ttitle\t= {Quantum_Computing_Lecture_7},\n",
    "    URL     = {https://www.cl.cam.ac.uk/teaching/1920/QuantComp/Quantum_Computing_Lecture_7.pdf},\n",
    "    author\t= {www.cl.cam.ac.uk},\n",
    "    dateOfAccess\t= {26/10/2023}\n",
    "\n",
    "#### <a id='toc1_11_1_2_'></a>[guidotti2018survey](#toc0_)\n",
    "  title={A survey of methods for explaining black box models},\n",
    "  author={Guidotti, Riccardo and Monreale, Anna and Ruggieri, Salvatore and Turini, Franco and Giannotti, Fosca and Pedreschi, Dino},\n",
    "  journal={ACM computing surveys (CSUR)},\n",
    "  volume={51},\n",
    "  number={5},\n",
    "  pages={1--42},\n",
    "  year={2018},\n",
    "  publisher={ACM New York, NY, USA}\n",
    "\n",
    "#### <a id='toc1_11_1_3_'></a>[zednik2021solving](#toc0_)\n",
    "  title={Solving the black box problem: A normative framework for explainable artificial intelligence},\n",
    "  author={Zednik, Carlos},\n",
    "  journal={Philosophy \\& technology},\n",
    "  volume={34},\n",
    "  number={2},\n",
    "  pages={265--288},\n",
    "  year={2021},\n",
    "  publisher={Springer}\n",
    "\n"
   ]
  }
 ],
 "metadata": {
  "kernelspec": {
   "display_name": "base",
   "language": "python",
   "name": "python3"
  },
  "language_info": {
   "codemirror_mode": {
    "name": "ipython",
    "version": 3
   },
   "file_extension": ".py",
   "mimetype": "text/x-python",
   "name": "python",
   "nbconvert_exporter": "python",
   "pygments_lexer": "ipython3",
   "version": "3.11.4"
  },
  "orig_nbformat": 4
 },
 "nbformat": 4,
 "nbformat_minor": 2
}
