{
 "cells": [
  {
   "cell_type": "markdown",
   "metadata": {},
   "source": [
    "Qiskit example"
   ]
  },
  {
   "cell_type": "code",
   "execution_count": 1,
   "metadata": {},
   "outputs": [
    {
     "name": "stdout",
     "output_type": "stream",
     "text": [
      "Quantum Circuit:\n",
      "     ┌───┐     \n",
      "q_0: ┤ H ├──■──\n",
      "     └───┘┌─┴─┐\n",
      "q_1: ─────┤ X ├\n",
      "          └───┘\n"
     ]
    }
   ],
   "source": [
    "from qiskit import QuantumCircuit\n",
    "\n",
    "# Create a quantum circuit with 2 qubits\n",
    "qc = QuantumCircuit(2)\n",
    "\n",
    "# Apply the Hadamard (H) gate to the first qubit\n",
    "qc.h(0)\n",
    "\n",
    "# Apply the CNOT gate with the first qubit as control and the second qubit as target\n",
    "qc.cx(0, 1)\n",
    "\n",
    "# Display the quantum circuit\n",
    "print(\"Quantum Circuit:\")\n",
    "print(qc)\n"
   ]
  },
  {
   "cell_type": "markdown",
   "metadata": {},
   "source": [
    "<hr>\n",
    "\n",
    "# <a id='toc1_'></a>[Deutsch's Algorithm](#toc0_)\n",
    "\n",
    "<hr>"
   ]
  },
  {
   "cell_type": "markdown",
   "metadata": {},
   "source": [
    "**Table of contents**<a id='toc0_'></a>    \n",
    "- [Deutsch's Algorithm](#toc1_)    \n",
    "  - [Table of contents](#toc1_1_)    \n",
    "  - [Introduction](#toc1_2_)    \n",
    "  - [Problem Statement](#toc1_3_)    \n",
    "    - [Black-Box Problem](#toc1_3_1_)    \n",
    "    - [Classical Solution](#toc1_3_2_)    \n",
    "  - [Quantum Principles](#toc1_4_)    \n",
    "    - [Superpostion](#toc1_4_1_)    \n",
    "    - [Interference](#toc1_4_2_)    \n",
    "  - [Deutsch's Algorithm](#toc1_5_)    \n",
    "    - [Algorithm Explanation](#toc1_5_1_)    \n",
    "    - [Quantum Circuit](#toc1_5_2_)    \n",
    "  - [Quantum Circuit Implementation](#toc1_6_)    \n",
    "    - [Logic](#toc1_6_1_)    \n",
    "    - [Circuit Visualization](#toc1_6_2_)    \n",
    "  - [Simulating the Quantum Circuit](#toc1_7_)    \n",
    "  - [Comparative Analysis](#toc1_8_)    \n",
    "  - [Challenges and Future](#toc1_9_)    \n",
    "  - [Conclusion](#toc1_10_)    \n",
    "  - [Bibliography](#toc1_11_)    \n",
    "      - [cl.cam](#toc1_11_1_1_)    \n",
    "      - [guidotti2018survey](#toc1_11_1_2_)    \n",
    "      - [zednik2021solving](#toc1_11_1_3_)    \n",
    "\n",
    "<!-- vscode-jupyter-toc-config\n",
    "\tnumbering=false\n",
    "\tanchor=true\n",
    "\tflat=false\n",
    "\tminLevel=1\n",
    "\tmaxLevel=6\n",
    "\t/vscode-jupyter-toc-config -->\n",
    "<!-- THIS CELL WILL BE REPLACED ON TOC UPDATE. DO NOT WRITE YOUR TEXT IN THIS CELL -->"
   ]
  },
  {
   "cell_type": "markdown",
   "metadata": {},
   "source": [
    "<hr>\n",
    "\n",
    "## <a id='toc1_2_'></a>[Introduction](#toc0_)\n",
    "\n",
    "<hr>\n",
    "\n",
    "### Overview of Quantum Computing\n",
    "\n",
    "\n",
    "\n",
    "<div>\n",
    "<p>The Deutsch's Algorithm addresses a problem known as the \"black-box problem\". This problem is said to arise from \"looking inside\" of the machine learning systems that are designed to solve complex problems. \"Opacity is the heart of the Black Box Problem\"[[1]](#zednik2021solving).\n",
    "\n",
    "The term opacity in this context refers to the fact that it is difficult to understand why machines(AI) do what they do or how they work. In the Deutsch's Algorithm, particularly, a given function takes a single-bit input and produces a single-bit output. Such function can be of 4 types: </p>\n",
    "<img src=\"./assets/table1.png\" width=\"200\">\n",
    "</div>\n",
    "<p>The task is to determine if the function is constant(C0 or C1) or balanced(B0 or B1) with the fewest possible queries. \n",
    "\n",
    "This algorithm aims to show the power of quantum computation over classical computation for solving certain problems more efficiently.\n",
    "\n",
    "The Deutsch-Jozsa algorithm is a quantum algorithm that was first proposed by David Deutsch in 1985 and later expanded by Richard Jozsa in 1992. In a brief way, this is how the algorith is set-up. \"We want to find out whether a particular function, with one input bit and one output bit is constant or balanced.Classically, we need to evaluate the function twice (i.e., for input = 0 and input = 1), but remarkably, we only need to evaluate the function once quantumly, by using Deutsch’s algorithm.[[2]](#clcam)\"</p>\n"
   ]
  },
  {
   "cell_type": "markdown",
   "metadata": {},
   "source": [
    "<hr>\n",
    "\n",
    "## <a id='toc1_3_'></a>[Problem Statement](#toc0_)\n",
    "\n",
    "<hr>\n",
    "\n",
    "### <a id='toc1_3_1_'></a>[Black-Box Problem](#toc0_)\n",
    "\n",
    "### <a id='toc1_3_2_'></a>[Classical Solution](#toc0_)"
   ]
  },
  {
   "cell_type": "markdown",
   "metadata": {},
   "source": [
    "<hr>\n",
    "\n",
    "## <a id='toc1_4_'></a>[Quantum Principles](#toc0_)\n",
    "\n",
    "<hr>\n",
    "\n",
    "### <a id='toc1_4_1_'></a>[Superpostion](#toc0_)\n",
    "\n",
    "### <a id='toc1_4_2_'></a>[Interference](#toc0_)"
   ]
  },
  {
   "cell_type": "markdown",
   "metadata": {},
   "source": [
    "<hr>\n",
    "\n",
    "## <a id='toc1_5_'></a>[Deutsch's Algorithm](#toc0_)\n",
    "\n",
    "<hr>\n",
    "\n",
    "### <a id='toc1_5_1_'></a>[Algorithm Explanation](#toc0_)\n",
    "\n",
    "### <a id='toc1_5_2_'></a>[Quantum Circuit](#toc0_)"
   ]
  },
  {
   "cell_type": "markdown",
   "metadata": {},
   "source": [
    "<hr>\n",
    "\n",
    "## <a id='toc1_6_'></a>[Quantum Circuit Implementation](#toc0_)\n",
    "\n",
    "<hr>\n",
    "\n",
    "### <a id='toc1_6_1_'></a>[Logic](#toc0_)\n",
    "\n",
    "### <a id='toc1_6_2_'></a>[Circuit Visualization](#toc0_)"
   ]
  },
  {
   "cell_type": "markdown",
   "metadata": {},
   "source": [
    "<hr>\n",
    "\n",
    "## <a id='toc1_7_'></a>[Simulating the Quantum Circuit](#toc0_)\n",
    "\n",
    "<hr>"
   ]
  },
  {
   "cell_type": "markdown",
   "metadata": {},
   "source": [
    "<hr>\n",
    "\n",
    "## <a id='toc1_8_'></a>[Comparative Analysis](#toc0_)\n",
    "\n",
    "<hr>"
   ]
  },
  {
   "cell_type": "markdown",
   "metadata": {},
   "source": [
    "<hr>\n",
    "\n",
    "## <a id='toc1_9_'></a>[Challenges and Future](#toc0_)\n",
    "\n",
    "<hr>"
   ]
  },
  {
   "cell_type": "markdown",
   "metadata": {},
   "source": [
    "<hr>\n",
    "\n",
    "## <a id='toc1_10_'></a>[Conclusion](#toc0_)\n",
    "\n",
    "<hr>"
   ]
  },
  {
   "cell_type": "markdown",
   "metadata": {},
   "source": [
    "<hr>\n",
    "\n",
    "## <a id='toc1_11_'></a>[Bibliography](#toc0_)\n",
    "\n",
    "<hr>\n",
    "\n",
    "#### <a id='toc1_11_1_1_'></a>[cl.cam](#toc0_)\n",
    "\ttitle\t= {Quantum_Computing_Lecture_7},\n",
    "    URL     = {https://www.cl.cam.ac.uk/teaching/1920/QuantComp/Quantum_Computing_Lecture_7.pdf},\n",
    "    author\t= {www.cl.cam.ac.uk},\n",
    "    dateOfAccess\t= {26/10/2023}\n",
    "\n",
    "#### <a id='toc1_11_1_2_'></a>[guidotti2018survey](#toc0_)\n",
    "  title={A survey of methods for explaining black box models},\n",
    "  author={Guidotti, Riccardo and Monreale, Anna and Ruggieri, Salvatore and Turini, Franco and Giannotti, Fosca and Pedreschi, Dino},\n",
    "  journal={ACM computing surveys (CSUR)},\n",
    "  volume={51},\n",
    "  number={5},\n",
    "  pages={1--42},\n",
    "  year={2018},\n",
    "  publisher={ACM New York, NY, USA}\n",
    "\n",
    "#### <a id='toc1_11_1_3_'></a>[zednik2021solving](#toc0_)\n",
    "  title={Solving the black box problem: A normative framework for explainable artificial intelligence},\n",
    "  author={Zednik, Carlos},\n",
    "  journal={Philosophy \\& technology},\n",
    "  volume={34},\n",
    "  number={2},\n",
    "  pages={265--288},\n",
    "  year={2021},\n",
    "  publisher={Springer}\n",
    "\n"
   ]
  }
 ],
 "metadata": {
  "kernelspec": {
   "display_name": "base",
   "language": "python",
   "name": "python3"
  },
  "language_info": {
   "codemirror_mode": {
    "name": "ipython",
    "version": 3
   },
   "file_extension": ".py",
   "mimetype": "text/x-python",
   "name": "python",
   "nbconvert_exporter": "python",
   "pygments_lexer": "ipython3",
   "version": "3.11.4"
  },
  "orig_nbformat": 4
 },
 "nbformat": 4,
 "nbformat_minor": 2
}
