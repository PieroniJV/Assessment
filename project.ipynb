{
 "cells": [
  {
   "cell_type": "markdown",
   "metadata": {},
   "source": [
    "<hr>\n",
    "\n",
    "# <a id='toc1_'></a>[Deutsch's Algorithm](#toc0_)\n",
    "\n",
    "<hr>"
   ]
  },
  {
   "cell_type": "markdown",
   "metadata": {},
   "source": [
    "**Table of contents**<a id='toc1_1_'></a>    \n",
    "- [Deutsch's Algorithm](#toc1_)    \n",
    "  - [Table of contents](#toc1_1_)    \n",
    "  - [Introduction](#toc1_2_)    \n",
    "  - [Problem Statement](#toc1_3_)    \n",
    "    - [Black-Box Problem](#toc1_3_1_)    \n",
    "    - [Classical Solution](#toc1_3_2_)    \n",
    "  - [Quantum Principles](#toc1_4_)    \n",
    "    - [Superpostion](#toc1_4_1_)    \n",
    "    - [Interference](#toc1_4_2_)    \n",
    "  - [Deutsch's Algorithm](#toc1_5_)    \n",
    "    - [Algorithm Explanation](#toc1_5_1_)      \n",
    "  - [Quantum Circuit Implementation](#toc1_6_)    \n",
    "    - [Importing Libraries](#toc1_6_1_)    \n",
    "    - [Initialization](#toc1_6_2_)    \n",
    "    - [Hadamard Gates:](#toc1_6_2_)    \n",
    "    - [Oracle Circuit:](#toc1_6_2_)    \n",
    "    - [Additional Gates:](#toc1_6_2_)    \n",
    "    - [Measurement:](#toc1_6_3_)    \n",
    "  - [Circuit Visualization](#toc1_7_)\n",
    "    - [Visual Representation](#toc1_7_1_)    \n",
    "  - [Simulating the Quantum Circuit](#toc1_8_)\n",
    "    - [Setting up the Simulator](#toc1_8_1_)    \n",
    "    - [Running the Simulation](#toc1_8_2_)    \n",
    "    - [Results Analysis](#toc1_8_3_)    \n",
    "  - [Comparative Analysis](#toc1_9_)\n",
    "    - [Comparison with Classical Approach](#toc1_9_1_)     \n",
    "  - [Conclusion](#toc1_10_)\n",
    "    - [Summary of Findings](#toc1_10_1_) \n",
    "    - [Significance of Quantum Advantage](#toc1_10_2_) \n",
    "  - [Future Directions](#toc1_11_) \n",
    "    - [Applications Beyond Deutsch's Algorithm](#toc1_11_1_) \n",
    "  - [References](#toc1_12_) \n",
    "\n",
    "<!-- vscode-jupyter-toc-config\n",
    "\tnumbering=false\n",
    "\tanchor=true\n",
    "\tflat=false\n",
    "\tminLevel=1\n",
    "\tmaxLevel=6\n",
    "\t/vscode-jupyter-toc-config -->\n",
    "<!-- THIS CELL WILL BE REPLACED ON TOC UPDATE. DO NOT WRITE YOUR TEXT IN THIS CELL -->"
   ]
  },
  {
   "cell_type": "markdown",
   "metadata": {},
   "source": [
    "<hr>\n",
    "\n",
    "## <a id='toc1_2_'></a>[Introduction](#toc0_)\n",
    "\n",
    "<hr>\n",
    "\n",
    "### Overview of Quantum Computing\n",
    "---\n",
    "\n",
    "IBM defines quantum computing as <q>*a rapidly-emerging tehcnology* that harnesses the laws of quantum mechanics to solve problems **too complex for classical computers.**</q> [[1]](#1)\n",
    "In classical computing, calculations are executed using bits as the fundamental unit of information, where each bit can represent either 0 or 1. In contrast, quantum computers utilize *qubits (quantum bits)*. \n",
    "\n",
    "Unlike classical bits, a qubit is not limited to a single, definitive state of 0 or 1; rather, it can exist in multiple states simultaneously. \n",
    "\n",
    "This unique property is called *superposition* and allows quantum computers to process a significantly larger number of possibilities than their classical counterparts. \n",
    "\n",
    "Qubits exhibit a distinctive characteristic known as *entanglement*, wherein the state of one qubit is intricately linked to the state of another, irrespective of the physical separation between them. This phenomenon, known as entanglement, forms a foundational element in quantum computing. \n",
    "\n",
    "Quantum computers harness not only entanglement but also another crucial property known as *interference* to enhance computational efficiency. Through the strategic utilization of entanglement and interference, quantum computers optimize their computational capabilities.\n",
    "\n",
    "### Why use quantum computing?\n",
    "---\n",
    "\n",
    "Despite the growing prevalence of large classical computers equipped with an increasing number of CPU and GPU cores, their fundamental limitation lies in their binary operation. If a supercomputer encounters challenges, it is typically because the **complex problem** at hand exceeds the capabilities of these large classical machines.<q>Complex problems are problems with lots of variables interacting in complicated ways.</q>[[2]](#2) The failure of classical computers is often rooted in their inherent difficulty handling **high levels of complexity**.\n",
    "\n",
    "As technology continues to advance, the **complexity of problems also escalates**, necessitating the adoption of *quantum computing*. This heightened complexity underscores the demand for quantum computing solutions. Presently, various fields leverage quantum computing technology to address **intricate challenges**, including but not limited to cryptography, machine learning, and calculations involving large factorial numbers.\n",
    "\n",
    "### The Deutsch's Algorithm\n",
    "---\n",
    "\n",
    "*Deutsch's Algorithm*, formulated by David Deutsch in 1985, is designed to tackle the \"black-box problem,\" a specific computational challenge that will be further examined in the subsequent chapter. In classical computing, discerning whether an unknown function is constant or balanced necessitates multiple queries. In stark contrast, **Deutsch's Algorithm achieves this task with remarkable efficiency, requiring just a single quantum query**. The algorithm adeptly distinguishes between four distinct function types: **constant zero, constant one, balanced zero, and balanced one**. This demonstration highlights the quantum advantage, as it outperforms classical approaches by showcasing the capability of quantum computation to efficiently solve particular problems with a minimal number of queries."
   ]
  },
  {
   "cell_type": "markdown",
   "metadata": {},
   "source": [
    "<hr>\n",
    "\n",
    "## <a id='toc1_3_'></a>[Problem Statement](#toc0_)\n",
    "\n",
    "<hr>\n",
    "\n",
    "### <a id='toc1_3_1_'></a>[Black-Box Problem](#toc0_)\n",
    "\n",
    "<q>The Black Box Problem is traditionally said to arise when the computing systems that are used to solve problems in AI are opaque. This manner of speaking is grounded in\n",
    "the metaphorical intuition that a system’s behavior can be explained by “looking inside” so as to understand why it does what it does or how it works</q>[[4]](#4)\n",
    "\n",
    "As previously stated, the *black-box problem* addressed by **Deutsch's Algorithm** revolves around determining the nature of an *unknown function* encapsulated within a black box. This function takes a *single-bit input* and produces a *single-bit output*. The main challenge is to categorize the function into one of four possible types as seen below. \n",
    "\n",
    "<img src=\"./assets/table1.png\" width=\"200\">\n",
    "\n",
    "- *Constant Function (C0)*: Always returns 0, regardless of the input.\n",
    "- *Constant Function (C1)*: Always returns 1, regardless of the input.\n",
    "- *Balanced Function (B0)*: Returns 0 for one input and 1 for the other.\n",
    "- *Balanced Function (B1)*: Returns 1 for one input and 0 for the other.\n",
    "\n",
    "The objective is to efficiently determine whether the black-box function falls into the category of a *constant function (either C0 or C1)* or a *balanced function (either B0 or B1)*. Emphasizing these four possible function types, **Deutsch's Algorithm** demonstrates a quantum advantage by solving this problem with just one query, showcasing the potency of quantum computation in specific problem domains.\n",
    "\n",
    "<hr>\n",
    "\n",
    "### <a id='toc1_3_2_'></a>[Classical Solution](#toc0_)\n",
    "\n",
    "In the classical approach to solving the *black-box problem*, the strategy is to make queries to the *unknown function* within the blac-box. Here is how this works:\n",
    "\n",
    "1. <u>Query for input 0(Classical bit 0):</u> Query the black-box function with an input of 0.\n",
    "2. <u>Query for input 1(Classical bit 1):</u> Query the black-box function with an input of 1.\n",
    "3. <u>Compare outputs:</u> Examine the outputs for both queries. If the outputs are the same (both 0 or both 1), the function is classified as \"constant.\" If the outputs are different (one is 0 and the other is 1), the function is classified as \"balanced.\"\n",
    "\n",
    "The issue with this approach is that this has a few limitations, such as:\n",
    "\n",
    "- <u>Query complexity:</u> This approach requires at least two queries to the function before it can determine if the function is *constant* or *balanced*. Which leads to the next limitation.\n",
    "\n",
    "- <u>Scalability issues:</u> As the *complexity of the problem* grows, and with larger input spaces or more intricate functions, the classical approach's query complexity increases linearly. This scalability issue makes the classical solution less efficient for complex problems.\n",
    "\n",
    "- <u>Inefficiency for Quantum Problems:</u> The *classical approach* contrasts with quantum algorithms like Deutsch's Algorithm, which demonstrate a *quantum advantage* by solving the problem with only one query. The classical method becomes inefficient when compared to quantum solutions for specific problems due to the inherent limitations of sequential query-based approaches.\n",
    "\n",
    "In the realm of less intricate problems, the *classical approach* remains effective. However, as the complexity of problems escalates or when grappling with quantum scenarios, the classical methodology becomes increasingly impractical. **Quantum problems**, in particular, often surpass the computational capacity of classical approaches, underscoring the need for quantum computing solutions in navigating challenges of heightened intricacy."
   ]
  },
  {
   "cell_type": "markdown",
   "metadata": {},
   "source": [
    "<hr>\n",
    "\n",
    "## <a id='toc1_4_'></a>[Quantum Principles](#toc0_)\n",
    "\n",
    "<hr>\n",
    "\n",
    "### <a id='toc1_4_1_'></a>[Superpostion](#toc0_)\n",
    "\n",
    "**Superposition** is a fundamental quantum principle that allows quantum bits(Qubits) to exist in multiple states simultaneously. Here is how this is defined:\n",
    "\n",
    "$\\text{Superposition} = \\alpha|0\\rangle + \\beta|1\\rangle$\n",
    "\n",
    "- $\\alpha \\text{ and } \\beta$ are complex numbers that determine the *probability* of measuring the qubit in the state $0$ or $1$\n",
    "- $|0\\rangle$ represents the quantum state where the qubit is in the logical state 0.\n",
    "- $|1\\rangle$ represents the quantum state where the qubit is in the logical state 1.\n",
    "\n",
    "In **superposition**, a qubit is not definitively in state 0 or state 1; instead, it exists as a *combination of both states*. The probabilities $\\alpha \\text{ and } \\beta$ can be djusted, allowing for various degrees of mixing between the two states. When measured, the qubit collapses into one of the basis states (0 or 1) with probabilities determined by $\\alpha \\text{ and } \\beta$\n",
    "\n",
    "The **superposition state** <q>represents a combination of all possible configurations of the qubit. Groups of qubits in superposition can create complex, multidimensional computational spaces.</q>[[3]](#3)\n",
    "\n",
    "Superposition is a powerful property of qubits that *enables quantum computers to process multiple possibilities simultaneously*, providing a significant advantage over classical bits for certain types of computations.\n",
    "\n",
    "### <a id='toc1_4_2_'></a>[Interference](#toc0_)\n",
    "\n",
    "**Interference** in the context of quantum computation refers to the phenomenon where quantum states, such as those of qubits, combine in a way that their amplitudes *reinforce or cancel each other out* when measured.\n",
    "\n",
    "- **Superposition Sets the Stage:** Interference is intimately tied to the principle of superposition. When a qubit is in superposition, it exists in a combination of multiple states, each associated with a *probability amplitude*.\n",
    "\n",
    "- **Amplitudes and Probabilities:** The amplitudes of these quantum states are complex numbers, and their magnitudes squared give the probabilities of measuring the qubit in a particular state. For example, in the superposition $\\alpha|0\\rangle + \\beta|1\\rangle,\\alpha^2$ is the probability of measuring the qubit in state $|0\\rangle$, and $\\beta^2$ is the probability of measuring it in the state $|1\\rangle$.\n",
    "\n",
    "- **Interference Effects:** Interference occurs when the amplitudes of different quantum states interact. *When two amplitudes have opposite signs, they can cancel each other out **(destructive interference)***, leading to a reduced probability of measuring the qubit in any state. *When two amplitudes have the same sign, they can reinforce each other **(constructive interference)***, increasing the probability of measuring the qubit in a particular state.\n",
    "\n",
    "- **Quantum Algorithms:** Quantum algorithms, such as *Deutsch's Algorithm* and Grover's Algorithm, leverage interference to perform computations more efficiently than classical counterparts. They manipulate quantum states in a way that *constructive interference enhances the probability of measuring the correct answer while destructive interference reduces the probability of incorrect answers*.\n",
    "\n",
    "- **Quantum Advantage:** Interference is at the heart of why quantum algorithms can provide significant speedup in solving certain problems. By carefully designing quantum circuits to *exploit interference*, quantum computers can explore multiple solutions simultaneously, leading to faster and more efficient computations."
   ]
  },
  {
   "cell_type": "markdown",
   "metadata": {},
   "source": [
    "In conclusion, **superpostion** can be looked at as the initial mix of possibilities, and **interference** is what happens when those possibilities interact, making some outcomes more likely and others less likely. These quantum phenomena are crucial for quantum algorithms to perform computations more efficiently than classical ones."
   ]
  },
  {
   "cell_type": "markdown",
   "metadata": {},
   "source": [
    "<hr>\n",
    "\n",
    "## <a id='toc1_5_'></a>[Deutsch's Algorithm](#toc0_)\n",
    "\n",
    "<hr>\n",
    "\n",
    "### <a id='toc1_5_1_'></a>[Algorithm Explanation](#toc0_)\n",
    "\n",
    "Here is how the **Deutsch's Algorithm** can be described:\n",
    "\n",
    "- **Initialization:**\n",
    "    - Prepare two qubits. Set the first qubit to $|0\\rangle$ and the second to $|1\\rangle$\n",
    "    - Apply a *Hadamard gate* to both qubits. This transforms the qubits into a *superpostion* of all possible states: $|00\\rangle + |01\\rangle$, where both are present with equal amplitudes.\n",
    "\n",
    "- **Oracle Circuit (Black-Box Function):**\n",
    "    - In this step, we apply the black-box function, often referred to as the oracle, to the qubits. The oracle represents the unknown function we want to evaluate.\n",
    "    - In the *Oracle function* we evaluate the two qubits as inputs and perform operations on them: $|xy\\rangle \\rightarrow |x, y \\oplus f(x)\\rangle$. \n",
    "    - In this function, $x \\text{ and } y$ represent the two qubits(inputs), $f(x)$ is the function to be evaluated and $\\oplus$ is the *XOR operation*, this combines the value of the second qubit $y(q1)$ with the output of the black-box function $f(x)$. This operation flips the second qubit if $f(x)$ is 1 and leaves it unchanged if $f(x)$ is 0.\n",
    "\n",
    "- **Hadamard Gates Again:**\n",
    "    - After applying the oracle function, we apply *Hadamard gates* to the first qubit $x(q0)$ again. \n",
    "    - The *Hadamard gate* is applied to $q(0)$, creating a superposition of its possible outcomes. \n",
    "    This step prepares the system for interference, which is crucial for distinguishing between constant and balanced functions.\n",
    "    \n",
    "- **Measurement:**\n",
    "    - In this final step, we measure the first qubit. The measurement result is either 0 or 1. The outcome of the measurement provides information about the nature of the black-box function: \n",
    "    - If the measurement result is 0, it indicates that the function $f(x)$ is *constant* (either C0 or C1).\n",
    "    - If the measurement result is 1, it indicates that the function $f(x)$ is *balanced* (either B0 or B1).\n",
    "\n",
    "The biggest take-away from this is that the  measurement result provides a definitive answer to the problem of determining the type of the black-box function using *only one query*, demonstrating the *quantum advantage* of Deutsch's Algorithm."
   ]
  },
  {
   "cell_type": "markdown",
   "metadata": {},
   "source": [
    "<hr>\n",
    "\n",
    "## <a id='toc1_6_'></a>[Quantum Circuit Implementation](#toc0_)\n",
    "\n",
    "<hr>\n",
    "\n",
    "This is a demonstration of the Deutsch's Algorithm using Python.\n",
    "\n",
    "### <a id='toc1_6_1_'></a>[Importing Libraries](#toc0_)\n",
    "\n",
    "- For this demonstration I will use the **Qiskit** library. This is a Python library used for *Quantum Computing*. "
   ]
  },
  {
   "cell_type": "code",
   "execution_count": 164,
   "metadata": {},
   "outputs": [],
   "source": [
    "# Import necessary libraries from Qiskit\n",
    "from qiskit import QuantumCircuit, QuantumRegister, ClassicalRegister"
   ]
  },
  {
   "cell_type": "markdown",
   "metadata": {},
   "source": [
    "### <a id='toc1_6_2_'></a>[Initialization](#toc0_)\n",
    "\n",
    "- We create a quantum circuit called `circuit`.\n",
    "- We set up two qubits using `QuantumRegister(2)` named `qreg`. These will be `q[0]` and `q[1]`.\n",
    "- The one classical bit using `ClassicalRegister(1)` named `creg`. This will be `c[0]`.\n",
    "- We prepare the second qubit by applying an *X gate* followed by a *Hadamard gate*\n",
    "- Finally, we define the different oracle functions that can be used to test the algorithm later. "
   ]
  },
  {
   "cell_type": "code",
   "execution_count": 165,
   "metadata": {},
   "outputs": [],
   "source": [
    "# Create a quantum circuit with 2 qubits and 1 classical bit\n",
    "# Qubits q[0] and q[1], and classical bits c[0].\n",
    "qreg = QuantumRegister(2)\n",
    "creg = ClassicalRegister(1)\n",
    "circuit = QuantumCircuit(qreg, creg)\n",
    "\n",
    "# Prepare the second qubit in the state |->.\n",
    "circuit.x(qreg[1])\n",
    "circuit.h(qreg[1])\n",
    "\n",
    "def constant_zero_oracle(circuit, qreg):\n",
    "    pass # does nothing, represents a constant function that always outputs 0\n",
    "\n",
    "def constant_one_oracle(circuit, qreg):\n",
    "    circuit.x(qreg[1]) # flips the target qubit, represents a constant function that always outputs 1\n",
    "\n",
    "def balanced_oracle(circuit, qreg):\n",
    "    circuit.cx(qreg[0], qreg[1]) # CNOT gate, a simple balanced function"
   ]
  },
  {
   "cell_type": "markdown",
   "metadata": {},
   "source": [
    "### <a id='toc1_6_3_'></a>[Hadamard Gates](#toc0_)\n",
    "\n",
    "- Next we apply **Hadamard gates** (`H`) to the first qubit `q[0]`. This creates a *superposition* of states for the qubit."
   ]
  },
  {
   "cell_type": "code",
   "execution_count": 166,
   "metadata": {},
   "outputs": [
    {
     "data": {
      "text/plain": [
       "<qiskit.circuit.instructionset.InstructionSet at 0x260d3c8dbd0>"
      ]
     },
     "execution_count": 166,
     "metadata": {},
     "output_type": "execute_result"
    }
   ],
   "source": [
    "# Apply Hadamard gate (H) to the first qubit.\n",
    "circuit.h(qreg[0])"
   ]
  },
  {
   "cell_type": "markdown",
   "metadata": {},
   "source": [
    "### <a id='toc1_6_4_'></a>[Oracle Circuit](#toc0_)\n",
    "\n",
    "- Now we build the **Oracle Circuit** that represents the black-box function. Assuming we have a *balanced function* $f(x)$ that flips the second qubit if the first qubit is set. \n",
    "\n",
    "- The `oracle_circuit` function takes the `circuit` and `qreg` as arguments. \n",
    "- In this function, we use the *Controlled-X(CNOT) gate* to perform the oracle operation. This gate flips the second qubit(`q[1]`) if the first qubit(`q[0]`) is set.\n",
    "- Next we can apply the `oracle_circuit` to the qubits to represent the *black-box function* $f(x)$.\n",
    "\n",
    "- It is important to note that depending on the actual black-box function you want to evaluate, the implementation of the oracle may vary.\n",
    "\n",
    "Here is the example:"
   ]
  },
  {
   "cell_type": "code",
   "execution_count": 167,
   "metadata": {},
   "outputs": [],
   "source": [
    "# Using one of the defined functions above \n",
    "# Apply the oracle function to the qubits\n",
    "constant_zero_oracle(circuit, qreg)"
   ]
  },
  {
   "cell_type": "markdown",
   "metadata": {},
   "source": [
    "### <a id='toc1_6_5_'></a>[Additional Gates](#toc0_)\n",
    "\n",
    "- After the *oracle function* is applied, we need to apply additional gates to the first qubit (`q[0]`) before measurement. These are essential for *Interference*, which as mentioned, is a key part of the algorithm to distinguish between *constant and balanced functions*. "
   ]
  },
  {
   "cell_type": "code",
   "execution_count": 168,
   "metadata": {},
   "outputs": [
    {
     "data": {
      "text/plain": [
       "<qiskit.circuit.instructionset.InstructionSet at 0x260d3c8de70>"
      ]
     },
     "execution_count": 168,
     "metadata": {},
     "output_type": "execute_result"
    }
   ],
   "source": [
    "# Apply Hadamard gate (H) to the first qubit\n",
    "circuit.h(qreg[0])"
   ]
  },
  {
   "cell_type": "markdown",
   "metadata": {},
   "source": [
    "### <a id='toc1_6_6_'></a>[Measurement](#toc0_)\n",
    "\n",
    "- This is the final step in the Deutsch's Algorithm. Here we add measurement operation to extract the results and determine the nature of the black-box function.\n",
    "- We use the `measure` method to measure the first qubit(`q[0]`) and store the measurement result in the first classical bit (`c[0]`)."
   ]
  },
  {
   "cell_type": "code",
   "execution_count": 169,
   "metadata": {},
   "outputs": [
    {
     "data": {
      "text/plain": [
       "<qiskit.circuit.instructionset.InstructionSet at 0x260d3c8f6a0>"
      ]
     },
     "execution_count": 169,
     "metadata": {},
     "output_type": "execute_result"
    }
   ],
   "source": [
    "# Step 4: Measurement\n",
    "\n",
    "# Measure the first qubit (q[0]) and store the result in c[0]\n",
    "circuit.measure(qreg[0], creg[0])"
   ]
  },
  {
   "cell_type": "markdown",
   "metadata": {},
   "source": [
    "- The measurement result will be one of the values: ${00, 01, 10, 11}$.\n",
    "- If the measurement result is 00 or 11, it indicates that $f(x)$ is a *constant function*, (C0 or C1).\n",
    "- If the measurement result is 01 or 10 it indicates that $f(x)$ is a *balanced function*, (B0 or B1).\n"
   ]
  },
  {
   "cell_type": "markdown",
   "metadata": {},
   "source": [
    "<hr>\n",
    "\n",
    "## <a id='toc1_7_'></a>[Circuit Visualization](#toc0_)\n",
    "\n",
    "<hr>\n",
    "\n",
    "### <a id='toc1_7_1_'></a>[Visual Representation](#toc0_)\n",
    "\n",
    "- In order to visualize the quantum circuit object we can use the `Qiskit's` visualization module. "
   ]
  },
  {
   "cell_type": "code",
   "execution_count": 170,
   "metadata": {},
   "outputs": [
    {
     "data": {
      "image/png": "[encoded data removed]",
      "text/plain": [
       "<Figure size 407.367x284.278 with 1 Axes>"
      ]
     },
     "execution_count": 170,
     "metadata": {},
     "output_type": "execute_result"
    }
   ],
   "source": [
    "# Import necessary libraries from Qiskit\n",
    "from qiskit.visualization import circuit_drawer\n",
    "\n",
    "# Visualize the quantum circuit and display it as a Matplotlib figure\n",
    "circuit_drawer(circuit, output=\"mpl\")"
   ]
  },
  {
   "cell_type": "markdown",
   "metadata": {},
   "source": [
    "#### Breakdown\n",
    "\n",
    "In this representation we can see the following components of the circuit:\n",
    "\n",
    "- **Qubits** ($q0_0 \\text{ and } q0_1$).\n",
    "- **Gates** (`H`, Oracle($\\oplus$) and `H`):\n",
    "    - The `H` represents the Hadamard gates used to create a *superposition*.\n",
    "    - The *oracle function* applied to the qubits, which is a custom operation you define in your algorithm. \n",
    "- **Lines and Arrows**: \n",
    "    - The *lines* connecting the qubits and gates represent the quantum wires or qubits states. \n",
    "    - The *arrows* indicate the direction of the quantum operations, showing that the gates are applied to qubits.\n",
    "- **Classical bits** (`C0`): \n",
    "    - C0 is a classical bit abd it stores the measurement results. The label \"2/\" indicates that it is a 2-bit classical register.\n",
    "- **Measurement** (`M`): \n",
    "    - M represents the measurements performed on the qubits. The outcome is stored in the *classical bits*.\n",
    "- **Control flow**: \n",
    "    - The operations are performed in the order that they appear, from left to right."
   ]
  },
  {
   "cell_type": "markdown",
   "metadata": {},
   "source": [
    "<hr>\n",
    "\n",
    "## <a id='toc1_8_'></a>[Simulating the Quantum Circuit](#toc0_)\n",
    "\n",
    "<hr>\n",
    "\n",
    "Next the idea is to simulate the quantum circuit in python, using the Qiskit Aer simulator. This tool provides a fast an accurate way to simulate quantum circuits.\n",
    "\n",
    "### <a id='toc1_8_1_'></a>[Setting up the Simulator](#toc0_)\n",
    "\n",
    "- First, we import the `Aer` library from Qiskit for simulating and the `execute` for running the simulations.\n",
    "- We then choose a suitable simulator that supports *measurements*, `Aer.get_backend('qasm_simulator')`.\n",
    "- The `num_shots` determines how many times the circuit will run in the simulation. The more shots, the more accurate the results but also it may take longer to simulate. This number can be adjusted as needed. "
   ]
  },
  {
   "cell_type": "code",
   "execution_count": 171,
   "metadata": {},
   "outputs": [],
   "source": [
    "# Import necessary libraries from Qiskit\n",
    "from qiskit import execute, Aer\n",
    "\n",
    "# Choose the Aer simulator\n",
    "simulator = Aer.get_backend('qasm_simulator')\n",
    "\n",
    "# Set the number of shots (simulated experiments)\n",
    "num_shots = 1024  # You can adjust this number as needed"
   ]
  },
  {
   "cell_type": "markdown",
   "metadata": {},
   "source": [
    "### <a id='toc1_8_2_'></a>[Running the Simulation](#toc0_)\n",
    "\n",
    "- We continue by using the `execute` to run the simulation.\n",
    "- This uses the `circuit` created previously.\n",
    "- A `job` uses the `circuit`, the `simulator` and the `shots` to run the simulation.\n",
    "- We then obtain the results of the simulation, retrieve it and display it. "
   ]
  },
  {
   "cell_type": "code",
   "execution_count": 172,
   "metadata": {},
   "outputs": [
    {
     "name": "stdout",
     "output_type": "stream",
     "text": [
      "Measurement outcomes: {'0': 1024}\n"
     ]
    }
   ],
   "source": [
    "# Create a job to run the simulation\n",
    "job = execute(circuit, simulator, shots=num_shots)\n",
    "\n",
    "# Get the results of the simulation\n",
    "results = job.result()\n",
    "\n",
    "# Retrieve the counts of measurement outcomes\n",
    "counts = results.get_counts(circuit)\n",
    "\n",
    "# Display the measurement outcomes and their probabilities\n",
    "print(\"Measurement outcomes:\", counts)"
   ]
  },
  {
   "cell_type": "markdown",
   "metadata": {},
   "source": [
    "### <a id='toc1_8_3_'></a>[Results Analysis](#toc0_)\n",
    "\n",
    "The analysis is the most crucial part of the algorithm, where the nature of the black-box function is determined(*constant or balanced*). \n",
    "Here is how we can analyze the results of the simulation:\n",
    "\n",
    "1. **Retrieve the outcomes:**\n",
    "    By using `results.get_counts(circuit)` we can obtain the outcomes and then store it in the `counts` variable.\n",
    "2. **Understanding the outcomes:**\n",
    "    The outcomes represent the possible states of the qubits after measurement, along with the number of times each outcome was observed. These outcomes are in the form of binary strings, where the first digit represents the measurement result for `q0` and the second digit represnts the measurement result for `q1`. \n",
    "3. **Interpretation of the outcomes:**\n",
    "    As previously seen:\n",
    "    - If the measurement outcomes contain only the states *00 and 11*, it indicates that the black-box function is **constant**. This means that the oracle function applied to the qubits *does not depend on the input and has a constant output*.\n",
    "    - If the measurement outcomes contain both *01 and 10*, it indicates that the black-box function is **balanced**. This means that *the oracle function applied to the qubits changes the state of the second qubit based on the input*.\n",
    "4. **Probability analysis:**\n",
    "    One of the last steps is to examine the probabilities associated with each measurement outcome. \n",
    "    - In a **balanced** function, a roughly equal probability should be observed for `01` and `10` outcomes.\n",
    "    - In a **constant** function, you should see a higher probability for either `00` or `11`.\n",
    "5. **Final decision:**\n",
    "    Once you have the outcomes and probabilities, you can make a final decision regarding the nature of the black-box function. As previously discussed, If you observe only `00` and `11` outcomes, conclude that the function is **constant**. If you observe both `01` and `10` outcomes, conclude that the function is **balanced**.\n",
    "\n",
    "Here is an example of this analysis:"
   ]
  },
  {
   "cell_type": "code",
   "execution_count": 173,
   "metadata": {},
   "outputs": [
    {
     "name": "stdout",
     "output_type": "stream",
     "text": [
      "The black-box function is constant.\n"
     ]
    }
   ],
   "source": [
    "# Interpretation\n",
    "if '0' in counts and counts['0'] > counts.get('1', 0):\n",
    "    print(\"The black-box function is constant.\")\n",
    "else:\n",
    "    print(\"The black-box function is balanced.\")"
   ]
  },
  {
   "cell_type": "markdown",
   "metadata": {},
   "source": [
    "<hr>\n",
    "\n",
    "## <a id='toc1_9_'></a>[Comparative Analysis](#toc0_)\n",
    "\n",
    "<hr>\n",
    "\n",
    "### <a id='toc1_9_1_'></a>[Comparison with Classical Approach](#toc0_)\n",
    "\n",
    "There are a few reasons as to why Quantum algorithms, such as the Deutsch's Algorithm, are more advantageous than classical methods. Here are some of these advantages:\n",
    "\n",
    "#### 1. Speed:\n",
    "\n",
    "The **Deutsch's Algorithm** provides a significant speedup over classical methods for solving the problem it addresses. In the classical case, to determine whether a black-box function is *constant or balanced*, you would need to evaluate the function for at least half of its input space. In contrast, Deutsch's Algorithm requires *only one query to the function*, regardless of its input size. This demonstrates the power of **quantum parallelism**, where quantum computers can *evaluate multiple inputs simultaneously*.\n",
    "\n",
    "#### 2. Determinism:\n",
    "\n",
    "**Deutsch's Algorithm** always produces a deterministic result. When the algorithm concludes that the black-box function is constant or balanced, it is *certain of the answer*. Classical algorithms may require *multiple evaluations*, and even then, there might be uncertainty due to probabilistic algorithms or incomplete evaluations.\n",
    "\n",
    "#### 3. Constant function detection:\n",
    "\n",
    "In the case of **constant functions**, **Deutsch's Algorithm** can identify the function as constant with certainty after *one query*. In contrast, a **classical algorithm** might require an exhaustive search, which can be *time-consuming* for large input spaces.\n",
    "\n",
    "#### 4. Balanced Function Detection:\n",
    "\n",
    "For balanced functions, **Deutsch's Algorithm** also excels. It can identify the function as balanced after *one query*. In the **classical case**, determining whether a function is balanced would *require checking multiple inputs* and observing changes in the output, which could be a *resource-intensive process*.\n",
    "\n",
    "####  5. Efficiency:\n",
    "\n",
    "**Deutsch's Algorithm** demonstrates the efficiency of quantum computation. It performs the task with *fewer resources* (queries) than **classical** algorithms, making it *highly efficient* for this specific problem.\n",
    "\n",
    "#### <u>Limitations and Considerations:</u> \n",
    "\n",
    "While **Deutsch's Algorithm** provides advantages for specific problems, it is important to note that *not all problems experience such quantum speedup*.\n",
    "\n",
    "**Quantum algorithms** are *highly specialized* and designed to excel in specific problem domains. In contrast, **classical algorithms** are *more versatile* and can be applied to various types of problems.\n",
    "\n",
    "Quantum algorithms require **quantum hardware**, which is currently in the early stages of development. Quantum computers are *not yet widely available*, and building and maintaining quantum hardware can be *expensive and challenging*."
   ]
  },
  {
   "cell_type": "markdown",
   "metadata": {},
   "source": [
    "<hr>\n",
    "\n",
    "## <a id='toc1_10_'></a>[Conclusion](#toc0_)\n",
    "\n",
    "<hr>\n",
    "\n",
    "### <a id='toc1_10_1_'></a>[Summary of Findings](#toc0_)\n",
    "\n",
    "- In this notebook, we delved into the remarkable **Deutsch's Algorithm** and its prowess in addressing the enigmatic **Black-box problem**.\n",
    "\n",
    "- Deutsch's Algorithm is not just a **quantum algorithm**; it's a quantum marvel. It accomplishes the task of determining whether an unknown function is *constant or balanced with a mere single query*, a feat that eludes the grasp of classical approaches. As we journey through the complexities of modern computing, it becomes increasingly clear that the quantum approach offers an *unparalleled advantage*.\n",
    "\n",
    "- This algorithm seamlessly harnesses the power of **qubits**, guided by carefully orchestrated **logical gates**, to unlock the secrets hidden within the enigmatic **black-box function**.\n",
    "\n",
    "- Through the lens of **Python** and the wizardry of **Qiskit**, we embarked on a simulated adventure, illuminating the inner workings of this quantum gem.\n",
    "\n",
    "- While Deutsch's Algorithm shines brilliantly in the firmament of computation, illuminating paths of *efficiency, speed, and complexity handling*, it does not escape the **constraints** of the quantum realm. It stands as a *specialized solution, accompanied by cost considerations and limited availability*, a reminder that quantum computing, though promising, is *yet to fully unfold its potential*.\n",
    "\n",
    "- As we conclude our exploration, we glimpse both the brilliance and the boundaries of quantum algorithms like Deutsch's. The quest for harnessing the full spectrum of quantum capabilities continues, *promising an exciting future* where quantum and classical computing coalesce in pursuit of the profound unknown.\n",
    "\n",
    "### <a id='toc1_10_2_'></a>[Significance of Quantum Advantage](#toc0_)\n",
    "\n",
    "- **Deutsch's Algorithm**, as we've explored in this notebook, stands as a testament to the transformative potential of **quantum computing**. Its ability to determine the nature of an unknown function with just *one query* has profound implications for problem-solving and computation at large. In this section, we reflect on the significance of the **quantum advantage** demonstrated by Deutsch's Algorithm.\n",
    "\n",
    "- As seen, **speed, efficiency and complexity** are all handled by the **quantum algorithm**, which in contrast with **classical algorithms**, has a much *better performance and guarantees a deterministic result*. It also becomes evident how powerful the quantum algorithm is when we consider some of the *limitations of the classical algorithms*, such as *exhaustive evaluations of functions across their input space*, which increases the resources needed for evaluating more complex problems.\n",
    "\n",
    "- **Quantum Parallellism:** This is a foundational concept in **quantum computing**. It allows **quantum algorithms** to *processs and explore multiple possibilites simultaneously*, leading to *exponential speedup* for certain problems. Through the principle of **superposition**, a **qubit** can represent *multiple states simultaneously*. This allows quantum algorithms to explore and *process many possibilities in parallel*.\n",
    "\n",
    "- In conclusion, Deutsch's Algorithm significantly impacts the landscape of computational theory. It stands as both a **promising and powerful** testament to the potential of quantum computing. This algorithm not only demonstrates the unique capabilities of quantum mechanics in processing information but also heralds a future where *complex problems find their solutions in the realm of quantum computing*. As we continue to explore and develop these quantum frontiers, Deutsch's Algorithm remains a *pivotal milestone*, underscoring the bright and transformative prospects that quantum computing holds for solving intricate challenges.\n"
   ]
  },
  {
   "cell_type": "markdown",
   "metadata": {},
   "source": [
    "<hr>\n",
    "\n",
    "## <a id='toc1_11_'></a>[Future Directions](#toc0_)\n",
    "\n",
    "<hr>\n",
    "\n",
    "### <a id='toc1_11_1_'></a>[Applications Beyond Deutsch's Algorithm](#toc0_)\n",
    "\n",
    "In this last chapter we explore how quantum algorithms redefine problem-solving, computation, and technological innovation, beyond the confines of a single algorithm. Here are some promising applications: \n",
    "\n",
    "#### <u>Cryptography:</u>\n",
    "\n",
    "Quantum cryptography is already seen in the field of quantum key distribution(QKD). QKD allows secure communication between two parties by leveraging the principles of quantum mechanics to create unbreakable encryption keys. \n",
    "\n",
    "#### <u>Machine Learning:</u>\n",
    "\n",
    "Quantum machine learning algorithms aim to outperform classical algorithms in tasks such as optimization, classification, and regression.\n",
    "\n",
    "<q>In the past decade, particularly in the past five years, the combination of powerful computers and special-purpose information processors capable of implementing deep networks with billions of weights, together with their application to very large data sets, has revealed that such deep learning networks are capable of learning complex and subtle patterns in data.</q>[[6]](#6). The advancements in the availability of powerful computers together with specialized hardware designed for training deep neural networks made possible for a remarkable advance in deep learning over the past years. These networks are capable of modeling highly complex and intricate patterns in data.\n",
    "\n",
    "#### <u>Chemistry and Materials Science:</u>\n",
    "\n",
    "Quantum computers can simulate the behavior of molecules and materials at the quantum level more accurately than classical computers. This has implications for drug discovery, material design, and understanding complex chemical reactions.\n",
    "\n",
    "#### <u>Hybrid Quantum-Classical Systems:</u>\n",
    "\n",
    "Hybrid Computing combines the strengths of quantum and classical computing in hybrid systems that can lead to powerful solutions. Quantum algorithms can be used as co-processors in classical systems to accelerate specific tasks.\n",
    "\n",
    "<q>Some circuits can be evaluated more efficiently on classical computers and some on quantum processors.</q>[[5]](#5). The choice of computing platform should be based on efficiency and effectiveness in solving a particular problem. \n",
    "\n",
    "Quantum computing is not limited to academic research; it has practical applications across various domains. As quantum hardware matures and quantum algorithms evolve, the potential for quantum computing to address real-world challenges continues to expand. "
   ]
  },
  {
   "cell_type": "markdown",
   "metadata": {},
   "source": [
    "<hr>\n",
    "\n",
    "## <a id='toc1_12_'></a>[References](#toc0_)\n",
    "\n",
    "<hr>\n",
    "\n",
    "<a id='1'></a>\n",
    "**[1]:** ibm.com. *What is quantum computing?*. Chapter: \"What is quantum computing?\". [Link](https://www.ibm.com/topics/quantum-computing#:~:text=Quantum%20computing%20is%20a%20rapidly,hundreds%20of%20thousands%20of%20developers). Last accessed on 22/12/2023.\n",
    "\n",
    "<a id='2'></a>\n",
    "**[2]:** ibm.com. *What is quantum computing?*. Chapter: \"Why do we need quantum computers?\". [Link](https://www.ibm.com/topics/quantum-computing#:~:text=Quantum%20computing%20is%20a%20rapidly,hundreds%20of%20thousands%20of%20developers). Last accessed on 22/12/2023.\n",
    "\n",
    "<a id='3'></a>\n",
    "**[3]:** ibm.com. *What is quantum computing?*. Chapter: \"How do quantum computers work?\". [Link](https://www.ibm.com/topics/quantum-computing#:~:text=Quantum%20computing%20is%20a%20rapidly,hundreds%20of%20thousands%20of%20developers). Last accessed on 22/12/2023.\n",
    "\n",
    "<a id='4'></a>\n",
    "**[4]:** Zednik, Carlos. (2021). *Solving the Black Box Problem: A Normative Framework for Explainable Artificial Intelligence*. Springer, 34, pp. 265-288. [Link](https://arxiv.org/ftp/arxiv/papers/1903/1903.04361.pdf). Last accessed on 22/12/2023.\n",
    "\n",
    "<a id='5'></a>\n",
    "**[5]:** Suchara, Martin; Alexeev, Yuri; Chong, Frederic; Finkel, Hal; Hoffmann, Henry; Larson, Jeffrey; Osborn, James; Smith, Graeme. (2018). *Hybrid Quantum-Classical Computing Architectures*. In Proceedings of the 3rd International Workshop on Post-Moore Era Supercomputing, 2018. [Link](https://par.nsf.gov/servlets/purl/10084839). Last accessed on 22/12/2023.\n",
    "\n",
    "<a id='6'></a>\n",
    "**[6]:** Biamonte, Jacob; Wittek, Peter; Pancotti, Nicola; Rebentrost, Patrick; Wiebe, Nathan; Lloyd, Seth. (2017). *Quantum Machine Learning*. Nature, 549(7671), pp. 195-202. [Link](https://arxiv.org/pdf/1611.09347.pdf). Last accessed on 22/12/2023.\n",
    "\n",
    "#### Extra reading:\n",
    "\n",
    "- Quantum circuits(How to use Qiskit): [Link](https://learn.qiskit.org/course/basics/quantum-circuits)\n",
    "\n",
    "- Quantum Computing vs Classical Computing: [Link](https://devtechnosys.com/insights/tech-comparison/quantum-computing-vs-classical-computing/#:~:text=Classical%20computing%20relies%20on%20binary,This%20is%20known%20as%20superposition)\n",
    "\n",
    "- What is the Deutsch-Jozsa Algorithm: [Link](https://www.classiq.io/insights/the-deutsch-jozsa-algorithm-explained#:~:text=What%20is%20the%20Deutsch%2DJozsa,values%20of%200%20or%201)\n",
    "\n",
    "- What is quantum computing?: [Link](https://scienceexchange.caltech.edu/topics/quantum-science-explained/quantum-computing-computers)\n",
    "\n",
    "- What is a qubit?: [Link](https://www.quantum-inspire.com/kbase/what-is-a-qubit/)"
   ]
  }
 ],
 "metadata": {
  "kernelspec": {
   "display_name": "base",
   "language": "python",
   "name": "python3"
  },
  "language_info": {
   "codemirror_mode": {
    "name": "ipython",
    "version": 3
   },
   "file_extension": ".py",
   "mimetype": "text/x-python",
   "name": "python",
   "nbconvert_exporter": "python",
   "pygments_lexer": "ipython3",
   "version": "3.11.4"
  },
  "orig_nbformat": 4
 },
 "nbformat": 4,
 "nbformat_minor": 2
}
