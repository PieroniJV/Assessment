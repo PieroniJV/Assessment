{
 "cells": [
  {
   "cell_type": "markdown",
   "metadata": {},
   "source": [
    "# Task 1\n",
    "## Collatz Conjecture\n",
    "\n",
    "Prove that if you start with any positive int $x$ and keep applying the following $f(x)$ function, you will reach a loop of the sequence 1, 4, 2, 1, 4, 2, ...\n",
    "\n",
    "For $f(x)$, when $x$ is even $f(x) = x / 2$ otherwise, $f(x) = 3x + 1$"
   ]
  },
  {
   "cell_type": "code",
   "execution_count": 1,
   "metadata": {},
   "outputs": [
    {
     "name": "stdout",
     "output_type": "stream",
     "text": [
      "Number(s) with the most iterations to reach 1:\n",
      "[6171]\n",
      "Number of iterations for the number(s) with the most iterations: 261\n"
     ]
    }
   ],
   "source": [
    "def collatz_conjecture_alg(num):\n",
    "    \"\"\"Returns the Collatz sequence and the number of iterations to reach 1.\"\"\"\n",
    "    iterations = 0  # Initialize the iteration counter\n",
    "\n",
    "    while num != 1:\n",
    "        if num % 2 == 0:\n",
    "            num = num // 2\n",
    "        else:\n",
    "            num = num * 3 + 1\n",
    "        iterations += 1\n",
    "    return iterations\n",
    "\n",
    "def analyze_collatz_conjecture(limit):\n",
    "    num_iterations_dict = {}\n",
    "\n",
    "    \"\"\"Calculate for the numbers in range and return number of iterations\"\"\"\n",
    "    for i in range(1, limit + 1):\n",
    "        num_iterations_dict[i] = collatz_conjecture_alg(i)\n",
    "\n",
    "    return num_iterations_dict\n",
    "\n",
    "# Checking for the first 10000 positive integers\n",
    "limit = 10000\n",
    "iterations_dict = analyze_collatz_conjecture(limit)\n",
    "\n",
    "# Count the numbers that need the most iterations\n",
    "max_iterations = max(iterations_dict.values())\n",
    "numbers_with_max_iterations = [num for num, iterations in iterations_dict.items() if iterations == max_iterations]\n",
    "\n",
    "print(\"Number(s) with the most iterations to reach 1:\")\n",
    "print(numbers_with_max_iterations)\n",
    "print(\"Number of iterations for the number(s) with the most iterations:\", max_iterations)\n"
   ]
  },
  {
   "cell_type": "markdown",
   "metadata": {},
   "source": [
    "This code should prove that the conjecture is true for at least the first 10000 positive integers and also shows the integer with the highest numbers of iterations before reaching 1, therefore, before entering the loop"
   ]
  },
  {
   "cell_type": "markdown",
   "metadata": {},
   "source": [
    "# Task 2\n",
    "\n",
    "## Square root via Newton's Method"
   ]
  },
  {
   "cell_type": "markdown",
   "metadata": {},
   "source": [
    "Newton's method uses a formula to find an approximate square root for a number by way of iterations/repetitions. The equation is the following $f(x)=x^2−N=0.$ Once you finx the new $X$ you repeat the formula until you reach the desired accuracy: $$x_{\\text{new}} = \\frac{1}{2} \\left( x_{\\text{old}} + \\frac{N}{x_{\\text{old}}} \\right)$$"
   ]
  },
  {
   "cell_type": "code",
   "execution_count": 7,
   "metadata": {},
   "outputs": [
    {
     "name": "stdout",
     "output_type": "stream",
     "text": [
      "Iteration 1: x_new = 5.0, difference = 4.0\n",
      "Iteration 2: x_new = 3.4, difference = 1.6\n",
      "Iteration 3: x_new = 3.023529411764706, difference = 0.3764705882352941\n",
      "Iteration 4: x_new = 3.00009155413138, difference = 0.02343785763332562\n",
      "Iteration 5: x_new = 3.000000001396984\n",
      "Approximate square root for 9: 3.000000001396984\n",
      "Iteration 1: x_new = 13.0, difference = 12.0\n",
      "Iteration 2: x_new = 7.461538461538462, difference = 5.538461538461538\n",
      "Iteration 3: x_new = 5.406026962727994, difference = 2.0555114988104677\n",
      "Iteration 4: x_new = 5.015247601944898, difference = 0.39077936078309605\n",
      "Iteration 5: x_new = 5.000023178253949, difference = 0.015224423690948896\n",
      "Iteration 6: x_new = 5.000000000053722\n",
      "Approximate square root for 25: 5.000000000053722\n",
      "Iteration 1: x_new = 60.5, difference = 59.5\n",
      "Iteration 2: x_new = 31.24173553719008, difference = 29.25826446280992\n",
      "Iteration 3: x_new = 17.541375671511513, difference = 13.700359865678568\n",
      "Iteration 4: x_new = 12.191172130921068, difference = 5.350203540590446\n",
      "Iteration 5: x_new = 11.017180097245145, difference = 1.1739920336759226\n",
      "Iteration 6: x_new = 10.954629731227293, difference = 0.06255036601785235\n",
      "Iteration 7: x_new = 10.954451151558928\n",
      "Approximate square root for 120: 10.954451151558928\n"
     ]
    }
   ],
   "source": [
    "def square_root_newton(N, initial_guess=1.0, tolerance=0.01, max_iterations=1000):\n",
    "    x_old = initial_guess\n",
    "\n",
    "    for i in range(max_iterations):\n",
    "        x_new = 0.5 * (x_old + N / x_old)  # Newton's method update\n",
    "        if abs(x_new - x_old) < tolerance:\n",
    "            print(f\"Iteration {i + 1}: x_new = {x_new}\")\n",
    "            return x_new\n",
    "        print(f\"Iteration {i + 1}: x_new = {x_new}, difference = {abs(x_new - x_old)}\")\n",
    "        x_old = x_new\n",
    "\n",
    "    raise ValueError(\"Newton's method did not converge within the maximum iterations.\")\n",
    "\n",
    "# Example usage\n",
    "N = 9  # The number for which we want to find the square root\n",
    "N1 = 25\n",
    "N2 = 120\n",
    "approx_sqrt = square_root_newton(N)\n",
    "print(f\"Approximate square root for {N}:\", approx_sqrt)\n",
    "approx_sqrt1 = square_root_newton(N1)\n",
    "print(f\"Approximate square root for {N1}:\", approx_sqrt1)\n",
    "approx_sqrt2 = square_root_newton(N2)\n",
    "print(f\"Approximate square root for {N2}:\", approx_sqrt2)\n",
    "\n"
   ]
  },
  {
   "cell_type": "markdown",
   "metadata": {},
   "source": [
    "In the following method we can observe that after every iteration, the difference becomes smaller until it reaches a value lower than our tolerance. The lower the tolerance value, the more accurate result you should get."
   ]
  }
 ],
 "metadata": {
  "kernelspec": {
   "display_name": "base",
   "language": "python",
   "name": "python3"
  },
  "language_info": {
   "codemirror_mode": {
    "name": "ipython",
    "version": 3
   },
   "file_extension": ".py",
   "mimetype": "text/x-python",
   "name": "python",
   "nbconvert_exporter": "python",
   "pygments_lexer": "ipython3",
   "version": "3.11.4"
  },
  "orig_nbformat": 4
 },
 "nbformat": 4,
 "nbformat_minor": 2
}
