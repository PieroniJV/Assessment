{
 "cells": [
  {
   "cell_type": "markdown",
   "metadata": {},
   "source": [
    "# Task 1\n",
    "## Collatz Conjecture\n",
    "\n",
    "Prove that if you start with any positive int $x$ and keep applying the following $f(x)$ function, you will reach a loop of the sequence 1, 4, 2, 1, 4, 2, ...\n",
    "\n",
    "For $f(x)$, when $x$ is even $f(x) = x / 2$ otherwise, $f(x) = 3x + 1$"
   ]
  },
  {
   "cell_type": "code",
   "execution_count": 13,
   "metadata": {},
   "outputs": [
    {
     "name": "stdout",
     "output_type": "stream",
     "text": [
      "Number(s) with the most iterations to reach 1:\n",
      "[6171]\n",
      "Number of iterations for the number(s) with the most iterations: 261\n"
     ]
    }
   ],
   "source": [
    "def collatz_conjecture_alg(num):\n",
    "    \"\"\"Returns the Collatz sequence and the number of iterations to reach 1.\"\"\"\n",
    "    iterations = 0  # Initialize the iteration counter\n",
    "\n",
    "    while num != 1:\n",
    "        if num % 2 == 0:\n",
    "            num = num // 2\n",
    "        else:\n",
    "            num = num * 3 + 1\n",
    "        iterations += 1\n",
    "    return iterations\n",
    "\n",
    "def analyze_collatz_conjecture(limit):\n",
    "    num_iterations_dict = {}\n",
    "\n",
    "    \"\"\"Calculate for the numbers in range and return number of iterations\"\"\"\n",
    "    for i in range(1, limit + 1):\n",
    "        num_iterations_dict[i] = collatz_conjecture_alg(i)\n",
    "\n",
    "    return num_iterations_dict\n",
    "\n",
    "# Checking for the first 10000 positive integers\n",
    "limit = 10000\n",
    "iterations_dict = analyze_collatz_conjecture(limit)\n",
    "\n",
    "# Count the numbers that need the most iterations\n",
    "max_iterations = max(iterations_dict.values())\n",
    "numbers_with_max_iterations = [num for num, iterations in iterations_dict.items() if iterations == max_iterations]\n",
    "\n",
    "print(\"Number(s) with the most iterations to reach 1:\")\n",
    "print(numbers_with_max_iterations)\n",
    "print(\"Number of iterations for the number(s) with the most iterations:\", max_iterations)\n"
   ]
  },
  {
   "cell_type": "markdown",
   "metadata": {},
   "source": [
    "This code should prove that the conjecture is true for at least the first 10000 positive integers and also shows the integer with the highest numbers of iterations before reaching 1, therefore, before entering the loop"
   ]
  }
 ],
 "metadata": {
  "kernelspec": {
   "display_name": "base",
   "language": "python",
   "name": "python3"
  },
  "language_info": {
   "codemirror_mode": {
    "name": "ipython",
    "version": 3
   },
   "file_extension": ".py",
   "mimetype": "text/x-python",
   "name": "python",
   "nbconvert_exporter": "python",
   "pygments_lexer": "ipython3",
   "version": "3.11.4"
  },
  "orig_nbformat": 4
 },
 "nbformat": 4,
 "nbformat_minor": 2
}
