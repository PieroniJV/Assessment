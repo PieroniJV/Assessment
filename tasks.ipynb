{
 "cells": [
  {
   "cell_type": "markdown",
   "metadata": {},
   "source": [
    "# Task 1\n",
    "## Collatz Conjecture\n",
    "\n",
    "\"The Collatz conjecture is a famous unsolved problem in mathematics.\"\n",
    "\n",
    "Prove that if you start with any positive int $x$ and keep applying the following $f(x)$ function, you will reach a loop of the sequence 1, 4, 2, 1, 4, 2, ...\n",
    "\n",
    "For $f(x)$, when $x$ is even $f(x) = x / 2$ otherwise, $f(x) = 3x + 1$"
   ]
  },
  {
   "cell_type": "code",
   "execution_count": 1,
   "metadata": {},
   "outputs": [
    {
     "name": "stdout",
     "output_type": "stream",
     "text": [
      "Number(s) with the most iterations to reach 1:\n",
      "[6171]\n",
      "Number of iterations for the number(s) with the most iterations: 261\n"
     ]
    }
   ],
   "source": [
    "def collatz_conjecture_alg(num):\n",
    "    \"\"\"Returns the Collatz sequence and the number of iterations to reach 1.\"\"\"\n",
    "    iterations = 0  # Initialize the iteration counter\n",
    "\n",
    "    while num != 1:\n",
    "        if num % 2 == 0:\n",
    "            num = num // 2\n",
    "        else:\n",
    "            num = num * 3 + 1\n",
    "        iterations += 1\n",
    "    return iterations\n",
    "\n",
    "def analyze_collatz_conjecture(limit):\n",
    "    num_iterations_dict = {}\n",
    "\n",
    "    \"\"\"Calculate for the numbers in range and return number of iterations\"\"\"\n",
    "    for i in range(1, limit + 1):\n",
    "        num_iterations_dict[i] = collatz_conjecture_alg(i)\n",
    "\n",
    "    return num_iterations_dict\n",
    "\n",
    "# Checking for the first 10000 positive integers\n",
    "limit = 10000\n",
    "iterations_dict = analyze_collatz_conjecture(limit)\n",
    "\n",
    "# Count the numbers that need the most iterations\n",
    "max_iterations = max(iterations_dict.values())\n",
    "numbers_with_max_iterations = [num for num, iterations in iterations_dict.items() if iterations == max_iterations]\n",
    "\n",
    "print(\"Number(s) with the most iterations to reach 1:\")\n",
    "print(numbers_with_max_iterations)\n",
    "print(\"Number of iterations for the number(s) with the most iterations:\", max_iterations)\n"
   ]
  },
  {
   "cell_type": "markdown",
   "metadata": {},
   "source": [
    "This code should prove that the conjecture is true for at least the first 10000 positive integers and also shows the integer with the highest numbers of iterations before reaching 1, therefore, before entering the loop"
   ]
  },
  {
   "cell_type": "markdown",
   "metadata": {},
   "source": [
    "# Task 2\n",
    "\n",
    "## Square root via Newton's Method"
   ]
  },
  {
   "cell_type": "markdown",
   "metadata": {},
   "source": [
    "Newton's method uses a formula to find an approximate square root for a number by way of iterations/repetitions. The equation is the following $f(x)=x^2−N=0.$ Once you finx the new $X$ you repeat the formula until you reach the desired accuracy: $$x_{\\text{new}} = \\frac{1}{2} \\left( x_{\\text{old}} + \\frac{N}{x_{\\text{old}}} \\right)$$"
   ]
  },
  {
   "cell_type": "code",
   "execution_count": 7,
   "metadata": {},
   "outputs": [
    {
     "name": "stdout",
     "output_type": "stream",
     "text": [
      "Iteration 1: x_new = 5.0, difference = 4.0\n",
      "Iteration 2: x_new = 3.4, difference = 1.6\n",
      "Iteration 3: x_new = 3.023529411764706, difference = 0.3764705882352941\n",
      "Iteration 4: x_new = 3.00009155413138, difference = 0.02343785763332562\n",
      "Iteration 5: x_new = 3.000000001396984\n",
      "Approximate square root for 9: 3.000000001396984\n",
      "Iteration 1: x_new = 13.0, difference = 12.0\n",
      "Iteration 2: x_new = 7.461538461538462, difference = 5.538461538461538\n",
      "Iteration 3: x_new = 5.406026962727994, difference = 2.0555114988104677\n",
      "Iteration 4: x_new = 5.015247601944898, difference = 0.39077936078309605\n",
      "Iteration 5: x_new = 5.000023178253949, difference = 0.015224423690948896\n",
      "Iteration 6: x_new = 5.000000000053722\n",
      "Approximate square root for 25: 5.000000000053722\n",
      "Iteration 1: x_new = 60.5, difference = 59.5\n",
      "Iteration 2: x_new = 31.24173553719008, difference = 29.25826446280992\n",
      "Iteration 3: x_new = 17.541375671511513, difference = 13.700359865678568\n",
      "Iteration 4: x_new = 12.191172130921068, difference = 5.350203540590446\n",
      "Iteration 5: x_new = 11.017180097245145, difference = 1.1739920336759226\n",
      "Iteration 6: x_new = 10.954629731227293, difference = 0.06255036601785235\n",
      "Iteration 7: x_new = 10.954451151558928\n",
      "Approximate square root for 120: 10.954451151558928\n"
     ]
    }
   ],
   "source": [
    "def square_root_newton(N, initial_guess=1.0, tolerance=0.01, max_iterations=1000):\n",
    "    x_old = initial_guess\n",
    "\n",
    "    for i in range(max_iterations):\n",
    "        x_new = 0.5 * (x_old + N / x_old)  # Newton's method update\n",
    "        if abs(x_new - x_old) < tolerance:\n",
    "            print(f\"Iteration {i + 1}: x_new = {x_new}\")\n",
    "            return x_new\n",
    "        print(f\"Iteration {i + 1}: x_new = {x_new}, difference = {abs(x_new - x_old)}\")\n",
    "        x_old = x_new\n",
    "\n",
    "    raise ValueError(\"Newton's method did not converge within the maximum iterations.\")\n",
    "\n",
    "# Example usage\n",
    "N = 9  # The number for which we want to find the square root\n",
    "N1 = 25\n",
    "N2 = 120\n",
    "approx_sqrt = square_root_newton(N)\n",
    "print(f\"Approximate square root for {N}:\", approx_sqrt)\n",
    "approx_sqrt1 = square_root_newton(N1)\n",
    "print(f\"Approximate square root for {N1}:\", approx_sqrt1)\n",
    "approx_sqrt2 = square_root_newton(N2)\n",
    "print(f\"Approximate square root for {N2}:\", approx_sqrt2)\n",
    "\n"
   ]
  },
  {
   "cell_type": "markdown",
   "metadata": {},
   "source": [
    "In the above method we can observe that after every iteration, the difference becomes smaller until it reaches a value lower than our tolerance. The lower the tolerance value, the more accurate result you should get."
   ]
  },
  {
   "cell_type": "markdown",
   "metadata": {},
   "source": [
    "# Task 3\n",
    "\n",
    "## Functions taking four bits and outputting a single bit\n",
    "\n",
    "\"Consider all possible functions taking four bits as input and outputting a single bit. How many such possible functions are there?\""
   ]
  },
  {
   "cell_type": "markdown",
   "metadata": {},
   "source": [
    "Each input has a potential value of 0 or 1. If you have 4 inputs, that equals a number of 16 possible combinations of inputs. Considering that the output also has a potential value of 0 or 1, if there are no constraints for functions or exceptions, the number of potential functions is $2^{16}$"
   ]
  },
  {
   "cell_type": "markdown",
   "metadata": {},
   "source": [
    "\"Write Python code to select one such function at random out of all the possibilities. Select the only one way you can figure out what the function is, is by calling it with different inputs and checking the outputs. How many times do you need to call the function to be certain which function it is?\""
   ]
  },
  {
   "cell_type": "code",
   "execution_count": 17,
   "metadata": {},
   "outputs": [
    {
     "name": "stdout",
     "output_type": "stream",
     "text": [
      "Randomly selected function (as a 16-bit integer): 42441\n",
      "Binary representation: 1010010111001001\n",
      "\n",
      "Determined function behavior:\n",
      "Input: (0, 0, 0, 0) Output: 1\n",
      "Input: (0, 0, 0, 1) Output: 0\n",
      "Input: (0, 0, 1, 0) Output: 0\n",
      "Input: (0, 0, 1, 1) Output: 1\n",
      "Input: (0, 1, 0, 0) Output: 0\n",
      "Input: (0, 1, 0, 1) Output: 0\n",
      "Input: (0, 1, 1, 0) Output: 1\n",
      "Input: (0, 1, 1, 1) Output: 1\n",
      "Input: (1, 0, 0, 0) Output: 1\n",
      "Input: (1, 0, 0, 1) Output: 0\n",
      "Input: (1, 0, 1, 0) Output: 1\n",
      "Input: (1, 0, 1, 1) Output: 0\n",
      "Input: (1, 1, 0, 0) Output: 0\n",
      "Input: (1, 1, 0, 1) Output: 1\n",
      "Input: (1, 1, 1, 0) Output: 0\n",
      "Input: (1, 1, 1, 1) Output: 1\n"
     ]
    }
   ],
   "source": [
    "import random\n",
    "\n",
    "# Generate a random 16-bit integer\n",
    "random_function = random.randint(0, 65535)\n",
    "\n",
    "# Define a function based on the bits of the random integer\n",
    "def selected_function(input_bits):\n",
    "    # Convert the input_bits to an integer\n",
    "    input_int = int(''.join(str(bit) for bit in input_bits), 2)\n",
    "    \n",
    "    # Get the output bit based on the random_function\n",
    "    output_bit = (random_function >> input_int) & 1\n",
    "    return output_bit\n",
    "\n",
    "# Determine the function's behavior by testing all input combinations\n",
    "def determine_function_behavior():\n",
    "    behaviors = {}\n",
    "    for i in range(16):\n",
    "        input_bits = [int(bit) for bit in bin(i)[2:].zfill(4)]\n",
    "        output_bit = selected_function(input_bits)\n",
    "        behaviors[tuple(input_bits)] = output_bit\n",
    "\n",
    "    return behaviors\n",
    "\n",
    "# Print the randomly selected function\n",
    "print(\"Randomly selected function (as a 16-bit integer):\", random_function)\n",
    "print(\"Binary representation:\", bin(random_function)[2:].zfill(16))\n",
    "\n",
    "# Determine the function's behavior by testing all input combinations\n",
    "function_behavior = determine_function_behavior()\n",
    "\n",
    "# Print the determined function behavior\n",
    "print(\"\\nDetermined function behavior:\")\n",
    "for input_bits, output_bit in function_behavior.items():\n",
    "    print(\"Input:\", input_bits, \"Output:\", output_bit)\n"
   ]
  },
  {
   "cell_type": "markdown",
   "metadata": {},
   "source": [
    "# Task 4\n",
    "\n",
    "<hr>\n",
    "\n",
    "## <u>Matrix multiplication</u>\n",
    "\n",
    "### <b>Task:  \"Write a function that performs matrix multiplication on two rectangular lists containing floats in python\"</b>\n",
    "\n",
    "<hr>\n",
    "\n",
    "Matrix multiplication is a mathematical operation that takes a pair of matrices, and produces another matrix. In Python, you can accomplish this task using nested loops. In this case we want to multiply two matrices that do not have the same number of rows and columns <u>Rectangular lists</u>\n"
   ]
  },
  {
   "cell_type": "code",
   "execution_count": 8,
   "metadata": {},
   "outputs": [
    {
     "data": {
      "text/latex": [
       "$\\displaystyle \\begin{bmatrix}30.0 & 24.0 & 18.0\\\\84.0 & 69.0 & 54.0\\\\138.0 & 114.0 & 90.0\\\\\\end{bmatrix}$"
      ],
      "text/plain": [
       "<IPython.core.display.Math object>"
      ]
     },
     "metadata": {},
     "output_type": "display_data"
    }
   ],
   "source": [
    "from IPython.display import Latex\n",
    "\n",
    "def matrix_multiply(A, B):\n",
    "    # Get the dimensions of the input matrices\n",
    "    rows_A = len(A)\n",
    "    cols_A = len(A[0])\n",
    "    rows_B = len(B)\n",
    "    cols_B = len(B[0])\n",
    "\n",
    "\n",
    "    # Initialize the result matrix with zeros\n",
    "    result = [[0.0 for _ in range(cols_B)] for _ in range(rows_A)]\n",
    "\n",
    "    # Perform matrix multiplication\n",
    "    for i in range(rows_A):\n",
    "        for j in range(cols_B):\n",
    "            for k in range(cols_A):\n",
    "                result[i][j] += A[i][k] * B[k][j]\n",
    "\n",
    "    return result\n",
    "\n",
    "# Example usage:\n",
    "matrix_A = [\n",
    "    [1.0, 2.0, 3.0],\n",
    "    [4.0, 5.0, 6.0],\n",
    "    [7.0, 8.0, 9.0]\n",
    "]\n",
    "\n",
    "matrix_B = [\n",
    "    [9.0, 8.0, 7.0],\n",
    "    [6.0, 5.0, 4.0],\n",
    "    [3.0, 2.0, 1.0]\n",
    "]\n",
    "\n",
    "result_matrix = matrix_multiply(matrix_A, matrix_B)\n",
    "\n",
    "# Display the result matrix using LaTeX\n",
    "latex_code = r'\\begin{bmatrix}' + ''.join([r' & '.join(map(str, row)) + r'\\\\' for row in result_matrix]) + r'\\end{bmatrix}'\n",
    "display(Math(latex_code))"
   ]
  },
  {
   "cell_type": "markdown",
   "metadata": {},
   "source": [
    "The result matrix C (result of A * B) will have dimensions (rows of A)×(columns of B), i.e., a $3 × 3$ matrix in this case.\n",
    "\n",
    "The loop works as follows: \n",
    "- The outer loop `(for i in range(rows_A))` iterates over the rows of the first matrix A.<br>\n",
    "- The middle loop `(for j in range(cols_B))` iterates over the columns of the second matrix B.<br>\n",
    "- The innermost loop `(for $k$ in range(cols_A))` iterates over the columns of A and the rows of B.\n",
    "\n",
    "For each combination of $i$, $j$, and $k$, it calculates the product $a_{{ik}} * b_{{kj}}$ and adds it to the corresponding element of the result matrix"
   ]
  }
 ],
 "metadata": {
  "kernelspec": {
   "display_name": "base",
   "language": "python",
   "name": "python3"
  },
  "language_info": {
   "codemirror_mode": {
    "name": "ipython",
    "version": 3
   },
   "file_extension": ".py",
   "mimetype": "text/x-python",
   "name": "python",
   "nbconvert_exporter": "python",
   "pygments_lexer": "ipython3",
   "version": "3.11.4"
  },
  "orig_nbformat": 4
 },
 "nbformat": 4,
 "nbformat_minor": 2
}
